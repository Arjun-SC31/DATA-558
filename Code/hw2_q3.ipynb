{
 "cells": [
  {
   "cell_type": "code",
   "execution_count": 1,
   "id": "58683d32",
   "metadata": {},
   "outputs": [],
   "source": [
    "import pandas as pd\n",
    "import numpy as np\n",
    "import random"
   ]
  },
  {
   "cell_type": "code",
   "execution_count": 2,
   "id": "220d35b6",
   "metadata": {},
   "outputs": [],
   "source": [
    "random.seed(1)"
   ]
  },
  {
   "cell_type": "code",
   "execution_count": 29,
   "id": "c1720033",
   "metadata": {},
   "outputs": [],
   "source": [
    "import warnings\n",
    "warnings.filterwarnings(\"ignore\")"
   ]
  },
  {
   "cell_type": "code",
   "execution_count": 30,
   "id": "4bc62be1",
   "metadata": {},
   "outputs": [
    {
     "data": {
      "text/html": [
       "<div>\n",
       "<style scoped>\n",
       "    .dataframe tbody tr th:only-of-type {\n",
       "        vertical-align: middle;\n",
       "    }\n",
       "\n",
       "    .dataframe tbody tr th {\n",
       "        vertical-align: top;\n",
       "    }\n",
       "\n",
       "    .dataframe thead th {\n",
       "        text-align: right;\n",
       "    }\n",
       "</style>\n",
       "<table border=\"1\" class=\"dataframe\">\n",
       "  <thead>\n",
       "    <tr style=\"text-align: right;\">\n",
       "      <th></th>\n",
       "      <th>Pregnancies</th>\n",
       "      <th>Glucose</th>\n",
       "      <th>BloodPressure</th>\n",
       "      <th>SkinThickness</th>\n",
       "      <th>Insulin</th>\n",
       "      <th>BMI</th>\n",
       "      <th>DiabetesPedigreeFunction</th>\n",
       "      <th>Age</th>\n",
       "      <th>Outcome</th>\n",
       "    </tr>\n",
       "  </thead>\n",
       "  <tbody>\n",
       "    <tr>\n",
       "      <th>0</th>\n",
       "      <td>6</td>\n",
       "      <td>148</td>\n",
       "      <td>72</td>\n",
       "      <td>35</td>\n",
       "      <td>0</td>\n",
       "      <td>33.6</td>\n",
       "      <td>0.627</td>\n",
       "      <td>50</td>\n",
       "      <td>1</td>\n",
       "    </tr>\n",
       "    <tr>\n",
       "      <th>1</th>\n",
       "      <td>1</td>\n",
       "      <td>85</td>\n",
       "      <td>66</td>\n",
       "      <td>29</td>\n",
       "      <td>0</td>\n",
       "      <td>26.6</td>\n",
       "      <td>0.351</td>\n",
       "      <td>31</td>\n",
       "      <td>0</td>\n",
       "    </tr>\n",
       "    <tr>\n",
       "      <th>2</th>\n",
       "      <td>8</td>\n",
       "      <td>183</td>\n",
       "      <td>64</td>\n",
       "      <td>0</td>\n",
       "      <td>0</td>\n",
       "      <td>23.3</td>\n",
       "      <td>0.672</td>\n",
       "      <td>32</td>\n",
       "      <td>1</td>\n",
       "    </tr>\n",
       "    <tr>\n",
       "      <th>3</th>\n",
       "      <td>1</td>\n",
       "      <td>89</td>\n",
       "      <td>66</td>\n",
       "      <td>23</td>\n",
       "      <td>94</td>\n",
       "      <td>28.1</td>\n",
       "      <td>0.167</td>\n",
       "      <td>21</td>\n",
       "      <td>0</td>\n",
       "    </tr>\n",
       "    <tr>\n",
       "      <th>4</th>\n",
       "      <td>0</td>\n",
       "      <td>137</td>\n",
       "      <td>40</td>\n",
       "      <td>35</td>\n",
       "      <td>168</td>\n",
       "      <td>43.1</td>\n",
       "      <td>2.288</td>\n",
       "      <td>33</td>\n",
       "      <td>1</td>\n",
       "    </tr>\n",
       "  </tbody>\n",
       "</table>\n",
       "</div>"
      ],
      "text/plain": [
       "   Pregnancies  Glucose  BloodPressure  SkinThickness  Insulin   BMI  \\\n",
       "0            6      148             72             35        0  33.6   \n",
       "1            1       85             66             29        0  26.6   \n",
       "2            8      183             64              0        0  23.3   \n",
       "3            1       89             66             23       94  28.1   \n",
       "4            0      137             40             35      168  43.1   \n",
       "\n",
       "   DiabetesPedigreeFunction  Age  Outcome  \n",
       "0                     0.627   50        1  \n",
       "1                     0.351   31        0  \n",
       "2                     0.672   32        1  \n",
       "3                     0.167   21        0  \n",
       "4                     2.288   33        1  "
      ]
     },
     "execution_count": 30,
     "metadata": {},
     "output_type": "execute_result"
    }
   ],
   "source": [
    "df= pd.read_csv('C://Users//arjun//Desktop//Quarter_3//ML//Homeworks//HW2//diabetes.csv')\n",
    "df.head()"
   ]
  },
  {
   "cell_type": "code",
   "execution_count": 31,
   "id": "8e55853c",
   "metadata": {},
   "outputs": [
    {
     "data": {
      "text/html": [
       "<div>\n",
       "<style scoped>\n",
       "    .dataframe tbody tr th:only-of-type {\n",
       "        vertical-align: middle;\n",
       "    }\n",
       "\n",
       "    .dataframe tbody tr th {\n",
       "        vertical-align: top;\n",
       "    }\n",
       "\n",
       "    .dataframe thead th {\n",
       "        text-align: right;\n",
       "    }\n",
       "</style>\n",
       "<table border=\"1\" class=\"dataframe\">\n",
       "  <thead>\n",
       "    <tr style=\"text-align: right;\">\n",
       "      <th></th>\n",
       "      <th>Pregnancies</th>\n",
       "      <th>Glucose</th>\n",
       "      <th>BloodPressure</th>\n",
       "      <th>SkinThickness</th>\n",
       "      <th>Insulin</th>\n",
       "      <th>BMI</th>\n",
       "      <th>DiabetesPedigreeFunction</th>\n",
       "      <th>Age</th>\n",
       "      <th>Outcome</th>\n",
       "    </tr>\n",
       "  </thead>\n",
       "  <tbody>\n",
       "    <tr>\n",
       "      <th>count</th>\n",
       "      <td>768.000000</td>\n",
       "      <td>768.000000</td>\n",
       "      <td>768.000000</td>\n",
       "      <td>768.000000</td>\n",
       "      <td>768.000000</td>\n",
       "      <td>768.000000</td>\n",
       "      <td>768.000000</td>\n",
       "      <td>768.000000</td>\n",
       "      <td>768.000000</td>\n",
       "    </tr>\n",
       "    <tr>\n",
       "      <th>mean</th>\n",
       "      <td>3.845052</td>\n",
       "      <td>120.894531</td>\n",
       "      <td>69.105469</td>\n",
       "      <td>20.536458</td>\n",
       "      <td>79.799479</td>\n",
       "      <td>31.992578</td>\n",
       "      <td>0.471876</td>\n",
       "      <td>33.240885</td>\n",
       "      <td>0.348958</td>\n",
       "    </tr>\n",
       "    <tr>\n",
       "      <th>std</th>\n",
       "      <td>3.369578</td>\n",
       "      <td>31.972618</td>\n",
       "      <td>19.355807</td>\n",
       "      <td>15.952218</td>\n",
       "      <td>115.244002</td>\n",
       "      <td>7.884160</td>\n",
       "      <td>0.331329</td>\n",
       "      <td>11.760232</td>\n",
       "      <td>0.476951</td>\n",
       "    </tr>\n",
       "    <tr>\n",
       "      <th>min</th>\n",
       "      <td>0.000000</td>\n",
       "      <td>0.000000</td>\n",
       "      <td>0.000000</td>\n",
       "      <td>0.000000</td>\n",
       "      <td>0.000000</td>\n",
       "      <td>0.000000</td>\n",
       "      <td>0.078000</td>\n",
       "      <td>21.000000</td>\n",
       "      <td>0.000000</td>\n",
       "    </tr>\n",
       "    <tr>\n",
       "      <th>25%</th>\n",
       "      <td>1.000000</td>\n",
       "      <td>99.000000</td>\n",
       "      <td>62.000000</td>\n",
       "      <td>0.000000</td>\n",
       "      <td>0.000000</td>\n",
       "      <td>27.300000</td>\n",
       "      <td>0.243750</td>\n",
       "      <td>24.000000</td>\n",
       "      <td>0.000000</td>\n",
       "    </tr>\n",
       "    <tr>\n",
       "      <th>50%</th>\n",
       "      <td>3.000000</td>\n",
       "      <td>117.000000</td>\n",
       "      <td>72.000000</td>\n",
       "      <td>23.000000</td>\n",
       "      <td>30.500000</td>\n",
       "      <td>32.000000</td>\n",
       "      <td>0.372500</td>\n",
       "      <td>29.000000</td>\n",
       "      <td>0.000000</td>\n",
       "    </tr>\n",
       "    <tr>\n",
       "      <th>75%</th>\n",
       "      <td>6.000000</td>\n",
       "      <td>140.250000</td>\n",
       "      <td>80.000000</td>\n",
       "      <td>32.000000</td>\n",
       "      <td>127.250000</td>\n",
       "      <td>36.600000</td>\n",
       "      <td>0.626250</td>\n",
       "      <td>41.000000</td>\n",
       "      <td>1.000000</td>\n",
       "    </tr>\n",
       "    <tr>\n",
       "      <th>max</th>\n",
       "      <td>17.000000</td>\n",
       "      <td>199.000000</td>\n",
       "      <td>122.000000</td>\n",
       "      <td>99.000000</td>\n",
       "      <td>846.000000</td>\n",
       "      <td>67.100000</td>\n",
       "      <td>2.420000</td>\n",
       "      <td>81.000000</td>\n",
       "      <td>1.000000</td>\n",
       "    </tr>\n",
       "  </tbody>\n",
       "</table>\n",
       "</div>"
      ],
      "text/plain": [
       "       Pregnancies     Glucose  BloodPressure  SkinThickness     Insulin  \\\n",
       "count   768.000000  768.000000     768.000000     768.000000  768.000000   \n",
       "mean      3.845052  120.894531      69.105469      20.536458   79.799479   \n",
       "std       3.369578   31.972618      19.355807      15.952218  115.244002   \n",
       "min       0.000000    0.000000       0.000000       0.000000    0.000000   \n",
       "25%       1.000000   99.000000      62.000000       0.000000    0.000000   \n",
       "50%       3.000000  117.000000      72.000000      23.000000   30.500000   \n",
       "75%       6.000000  140.250000      80.000000      32.000000  127.250000   \n",
       "max      17.000000  199.000000     122.000000      99.000000  846.000000   \n",
       "\n",
       "              BMI  DiabetesPedigreeFunction         Age     Outcome  \n",
       "count  768.000000                768.000000  768.000000  768.000000  \n",
       "mean    31.992578                  0.471876   33.240885    0.348958  \n",
       "std      7.884160                  0.331329   11.760232    0.476951  \n",
       "min      0.000000                  0.078000   21.000000    0.000000  \n",
       "25%     27.300000                  0.243750   24.000000    0.000000  \n",
       "50%     32.000000                  0.372500   29.000000    0.000000  \n",
       "75%     36.600000                  0.626250   41.000000    1.000000  \n",
       "max     67.100000                  2.420000   81.000000    1.000000  "
      ]
     },
     "execution_count": 31,
     "metadata": {},
     "output_type": "execute_result"
    }
   ],
   "source": [
    "df.describe()"
   ]
  },
  {
   "cell_type": "code",
   "execution_count": 32,
   "id": "fb39f230",
   "metadata": {},
   "outputs": [
    {
     "data": {
      "text/plain": [
       "(768, 9)"
      ]
     },
     "execution_count": 32,
     "metadata": {},
     "output_type": "execute_result"
    }
   ],
   "source": [
    "df.shape"
   ]
  },
  {
   "cell_type": "code",
   "execution_count": 33,
   "id": "82d2fe49",
   "metadata": {},
   "outputs": [
    {
     "data": {
      "text/plain": [
       "array([1, 0], dtype=int64)"
      ]
     },
     "execution_count": 33,
     "metadata": {},
     "output_type": "execute_result"
    }
   ],
   "source": [
    "df['Outcome'].unique()"
   ]
  },
  {
   "cell_type": "code",
   "execution_count": 45,
   "id": "39305686",
   "metadata": {},
   "outputs": [
    {
     "data": {
      "text/plain": [
       "Index(['Pregnancies', 'Glucose', 'BloodPressure', 'SkinThickness', 'Insulin',\n",
       "       'BMI', 'DiabetesPedigreeFunction', 'Age', 'Outcome'],\n",
       "      dtype='object')"
      ]
     },
     "execution_count": 45,
     "metadata": {},
     "output_type": "execute_result"
    }
   ],
   "source": [
    "df.columns"
   ]
  },
  {
   "cell_type": "code",
   "execution_count": 34,
   "id": "9f00116e",
   "metadata": {},
   "outputs": [],
   "source": [
    "X=df.loc[:,df.columns!='Outcome'].values\n",
    "y=df.loc[:,'Outcome'].values"
   ]
  },
  {
   "cell_type": "code",
   "execution_count": 50,
   "id": "a7a60cde",
   "metadata": {},
   "outputs": [],
   "source": [
    "X1 = df[['Pregnancies', 'Glucose', 'BloodPressure', 'SkinThickness', 'Insulin']].values"
   ]
  },
  {
   "cell_type": "code",
   "execution_count": 51,
   "id": "0b576ec3",
   "metadata": {},
   "outputs": [],
   "source": [
    "X2 = df[['SkinThickness', 'Insulin',\n",
    "       'BMI', 'DiabetesPedigreeFunction', 'Age']].values"
   ]
  },
  {
   "cell_type": "code",
   "execution_count": 52,
   "id": "e9ad0441",
   "metadata": {},
   "outputs": [],
   "source": [
    "from sklearn.model_selection import train_test_split\n",
    "X_train, X_test, y_train, y_test = train_test_split(X, y, test_size=0.2, random_state=0)"
   ]
  },
  {
   "cell_type": "code",
   "execution_count": 36,
   "id": "6d5e62b0",
   "metadata": {},
   "outputs": [
    {
     "name": "stdout",
     "output_type": "stream",
     "text": [
      "Accuracy Score 79.22077922077922\n",
      "              precision    recall  f1-score   support\n",
      "\n",
      "           0       0.87      0.84      0.85       111\n",
      "           1       0.62      0.67      0.64        43\n",
      "\n",
      "    accuracy                           0.79       154\n",
      "   macro avg       0.74      0.76      0.75       154\n",
      "weighted avg       0.80      0.79      0.79       154\n",
      "\n"
     ]
    }
   ],
   "source": [
    "#Naive-Bayes\n",
    "from sklearn.naive_bayes import GaussianNB\n",
    "classifier = GaussianNB()\n",
    "classifier.fit(X_train, y_train)\n",
    "y_pred = classifier.predict(X_test)\n",
    "from sklearn.metrics import accuracy_score\n",
    "print( 'Accuracy Score',accuracy_score(y_test, y_pred)*100)\n",
    "from sklearn.metrics import classification_report\n",
    "print(classification_report(y_pred, y_test))"
   ]
  },
  {
   "cell_type": "code",
   "execution_count": 53,
   "id": "5c54984c",
   "metadata": {},
   "outputs": [
    {
     "name": "stdout",
     "output_type": "stream",
     "text": [
      "Accuracy Score 76.62337662337663\n",
      "              precision    recall  f1-score   support\n",
      "\n",
      "           0       0.86      0.81      0.84       113\n",
      "           1       0.55      0.63      0.59        41\n",
      "\n",
      "    accuracy                           0.77       154\n",
      "   macro avg       0.71      0.72      0.71       154\n",
      "weighted avg       0.78      0.77      0.77       154\n",
      "\n"
     ]
    }
   ],
   "source": [
    "#Naive-Bayes\n",
    "X1_train, X1_test, y_train, y_test = train_test_split(X1, y, test_size=0.2, random_state=0)\n",
    "from sklearn.naive_bayes import GaussianNB\n",
    "classifier = GaussianNB()\n",
    "classifier.fit(X1_train, y_train)\n",
    "y_pred = classifier.predict(X1_test)\n",
    "from sklearn.metrics import accuracy_score\n",
    "print( 'Accuracy Score',accuracy_score(y_test, y_pred)*100)\n",
    "from sklearn.metrics import classification_report\n",
    "print(classification_report(y_pred, y_test))"
   ]
  },
  {
   "cell_type": "code",
   "execution_count": 54,
   "id": "0c3ddae6",
   "metadata": {},
   "outputs": [
    {
     "name": "stdout",
     "output_type": "stream",
     "text": [
      "Accuracy Score 72.07792207792207\n",
      "              precision    recall  f1-score   support\n",
      "\n",
      "           0       0.87      0.76      0.81       122\n",
      "           1       0.38      0.56      0.46        32\n",
      "\n",
      "    accuracy                           0.72       154\n",
      "   macro avg       0.63      0.66      0.63       154\n",
      "weighted avg       0.77      0.72      0.74       154\n",
      "\n"
     ]
    }
   ],
   "source": [
    "#Naive-Bayes\n",
    "X2_train, X2_test, y_train, y_test = train_test_split(X2, y, test_size=0.2, random_state=0)\n",
    "from sklearn.naive_bayes import GaussianNB\n",
    "classifier = GaussianNB()\n",
    "classifier.fit(X2_train, y_train)\n",
    "y_pred = classifier.predict(X2_test)\n",
    "from sklearn.metrics import accuracy_score\n",
    "print( 'Accuracy Score',accuracy_score(y_test, y_pred)*100)\n",
    "from sklearn.metrics import classification_report\n",
    "print(classification_report(y_pred, y_test))"
   ]
  },
  {
   "cell_type": "code",
   "execution_count": 37,
   "id": "1b8fdb1b",
   "metadata": {},
   "outputs": [
    {
     "name": "stdout",
     "output_type": "stream",
     "text": [
      "Accuracy Score 82.46753246753246\n",
      "              precision    recall  f1-score   support\n",
      "\n",
      "           0       0.92      0.84      0.88       116\n",
      "           1       0.62      0.76      0.68        38\n",
      "\n",
      "    accuracy                           0.82       154\n",
      "   macro avg       0.77      0.80      0.78       154\n",
      "weighted avg       0.84      0.82      0.83       154\n",
      "\n"
     ]
    }
   ],
   "source": [
    "# Linear Discriminant Analysis\n",
    "from sklearn.discriminant_analysis import LinearDiscriminantAnalysis as LDA\n",
    "lda_classifier = LDA()\n",
    "lda_classifier.fit(X_train, y_train)\n",
    "y_pred = lda_classifier.predict(X_test)\n",
    "from sklearn.metrics import accuracy_score\n",
    "print( 'Accuracy Score',accuracy_score(y_test, y_pred)*100)\n",
    "from sklearn.metrics import classification_report\n",
    "print(classification_report(y_pred, y_test))"
   ]
  },
  {
   "cell_type": "code",
   "execution_count": 55,
   "id": "2053e698",
   "metadata": {},
   "outputs": [
    {
     "name": "stdout",
     "output_type": "stream",
     "text": [
      "Accuracy Score 76.62337662337663\n",
      "              precision    recall  f1-score   support\n",
      "\n",
      "           0       0.86      0.81      0.84       113\n",
      "           1       0.55      0.63      0.59        41\n",
      "\n",
      "    accuracy                           0.77       154\n",
      "   macro avg       0.71      0.72      0.71       154\n",
      "weighted avg       0.78      0.77      0.77       154\n",
      "\n"
     ]
    }
   ],
   "source": [
    "# Linear Discriminant Analysis\n",
    "X1_train, X1_test, y_train, y_test = train_test_split(X1, y, test_size=0.2, random_state=0)\n",
    "from sklearn.discriminant_analysis import LinearDiscriminantAnalysis as LDA\n",
    "lda_classifier = LDA()\n",
    "lda_classifier.fit(X1_train, y_train)\n",
    "y_pred = lda_classifier.predict(X1_test)\n",
    "from sklearn.metrics import accuracy_score\n",
    "print( 'Accuracy Score',accuracy_score(y_test, y_pred)*100)\n",
    "from sklearn.metrics import classification_report\n",
    "print(classification_report(y_pred, y_test))"
   ]
  },
  {
   "cell_type": "code",
   "execution_count": 56,
   "id": "69acfe36",
   "metadata": {},
   "outputs": [
    {
     "name": "stdout",
     "output_type": "stream",
     "text": [
      "Accuracy Score 72.07792207792207\n",
      "              precision    recall  f1-score   support\n",
      "\n",
      "           0       0.92      0.74      0.82       132\n",
      "           1       0.28      0.59      0.38        22\n",
      "\n",
      "    accuracy                           0.72       154\n",
      "   macro avg       0.60      0.67      0.60       154\n",
      "weighted avg       0.82      0.72      0.76       154\n",
      "\n"
     ]
    }
   ],
   "source": [
    "# Linear Discriminant Analysis\n",
    "X2_train, X2_test, y_train, y_test = train_test_split(X2, y, test_size=0.2, random_state=0)\n",
    "from sklearn.discriminant_analysis import LinearDiscriminantAnalysis as LDA\n",
    "lda_classifier = LDA()\n",
    "lda_classifier.fit(X2_train, y_train)\n",
    "y_pred = lda_classifier.predict(X2_test)\n",
    "from sklearn.metrics import accuracy_score\n",
    "print( 'Accuracy Score',accuracy_score(y_test, y_pred)*100)\n",
    "from sklearn.metrics import classification_report\n",
    "print(classification_report(y_pred, y_test))"
   ]
  },
  {
   "cell_type": "code",
   "execution_count": 38,
   "id": "1ba76b80",
   "metadata": {},
   "outputs": [
    {
     "name": "stdout",
     "output_type": "stream",
     "text": [
      "Accuracy Score 82.46753246753246\n",
      "              precision    recall  f1-score   support\n",
      "\n",
      "           0       0.92      0.84      0.88       116\n",
      "           1       0.62      0.76      0.68        38\n",
      "\n",
      "    accuracy                           0.82       154\n",
      "   macro avg       0.77      0.80      0.78       154\n",
      "weighted avg       0.84      0.82      0.83       154\n",
      "\n"
     ]
    }
   ],
   "source": [
    "#Logistic Regression\n",
    "from sklearn.linear_model import LogisticRegression\n",
    "clf= LogisticRegression(max_iter=150)\n",
    "clf.fit(X_train, y_train)\n",
    "y_pred= clf.predict(X_test)\n",
    "from sklearn.metrics import accuracy_score\n",
    "print( 'Accuracy Score',accuracy_score(y_test, y_pred)*100)\n",
    "from sklearn.metrics import classification_report\n",
    "print(classification_report(y_pred, y_test))"
   ]
  },
  {
   "cell_type": "code",
   "execution_count": 57,
   "id": "efa177d7",
   "metadata": {},
   "outputs": [
    {
     "name": "stdout",
     "output_type": "stream",
     "text": [
      "Accuracy Score 76.62337662337663\n",
      "              precision    recall  f1-score   support\n",
      "\n",
      "           0       0.86      0.81      0.84       113\n",
      "           1       0.55      0.63      0.59        41\n",
      "\n",
      "    accuracy                           0.77       154\n",
      "   macro avg       0.71      0.72      0.71       154\n",
      "weighted avg       0.78      0.77      0.77       154\n",
      "\n"
     ]
    }
   ],
   "source": [
    "#Logistic Regression\n",
    "X1_train, X1_test, y_train, y_test = train_test_split(X1, y, test_size=0.2, random_state=0)\n",
    "from sklearn.linear_model import LogisticRegression\n",
    "clf= LogisticRegression(max_iter=150)\n",
    "clf.fit(X1_train, y_train)\n",
    "y_pred= clf.predict(X1_test)\n",
    "from sklearn.metrics import accuracy_score\n",
    "print( 'Accuracy Score',accuracy_score(y_test, y_pred)*100)\n",
    "from sklearn.metrics import classification_report\n",
    "print(classification_report(y_pred, y_test))"
   ]
  },
  {
   "cell_type": "code",
   "execution_count": 58,
   "id": "0380bf7d",
   "metadata": {},
   "outputs": [
    {
     "name": "stdout",
     "output_type": "stream",
     "text": [
      "Accuracy Score 72.72727272727273\n",
      "              precision    recall  f1-score   support\n",
      "\n",
      "           0       0.92      0.75      0.82       131\n",
      "           1       0.30      0.61      0.40        23\n",
      "\n",
      "    accuracy                           0.73       154\n",
      "   macro avg       0.61      0.68      0.61       154\n",
      "weighted avg       0.82      0.73      0.76       154\n",
      "\n"
     ]
    }
   ],
   "source": [
    "#Logistic Regression\n",
    "X2_train, X2_test, y_train, y_test = train_test_split(X2, y, test_size=0.2, random_state=0)\n",
    "from sklearn.linear_model import LogisticRegression\n",
    "clf= LogisticRegression(max_iter=150)\n",
    "clf.fit(X2_train, y_train)\n",
    "y_pred= clf.predict(X2_test)\n",
    "from sklearn.metrics import accuracy_score\n",
    "print( 'Accuracy Score',accuracy_score(y_test, y_pred)*100)\n",
    "from sklearn.metrics import classification_report\n",
    "print(classification_report(y_pred, y_test))"
   ]
  },
  {
   "cell_type": "code",
   "execution_count": 39,
   "id": "be9a44e0",
   "metadata": {},
   "outputs": [
    {
     "name": "stdout",
     "output_type": "stream",
     "text": [
      "For k = 1 accuracy is 0.6168831168831169\n",
      "For k = 2 accuracy is 0.7142857142857143\n",
      "For k = 3 accuracy is 0.7207792207792207\n",
      "For k = 4 accuracy is 0.7727272727272727\n",
      "For k = 5 accuracy is 0.7532467532467533\n",
      "For k = 6 accuracy is 0.7792207792207793\n",
      "For k = 7 accuracy is 0.7597402597402597\n",
      "For k = 8 accuracy is 0.7792207792207793\n",
      "For k = 9 accuracy is 0.7727272727272727\n",
      "For k = 10 accuracy is 0.7922077922077922\n",
      "For k = 11 accuracy is 0.7662337662337663\n",
      "For k = 12 accuracy is 0.7857142857142857\n",
      "For k = 13 accuracy is 0.7922077922077922\n",
      "For k = 14 accuracy is 0.7922077922077922\n",
      "For k = 15 accuracy is 0.7922077922077922\n",
      "For k = 16 accuracy is 0.7922077922077922\n",
      "For k = 17 accuracy is 0.7857142857142857\n",
      "For k = 18 accuracy is 0.7857142857142857\n",
      "For k = 19 accuracy is 0.7987012987012987\n"
     ]
    }
   ],
   "source": [
    "#KNN Classifier\n",
    "from sklearn.neighbors import KNeighborsClassifier\n",
    "for i in range (1,20):\n",
    "    knn2 = KNeighborsClassifier(n_neighbors=i)\n",
    "    knn2.fit(X_train, y_train)\n",
    "    print(\"For k = %d accuracy is\"%i,knn2.score(X_test,y_test))"
   ]
  },
  {
   "cell_type": "code",
   "execution_count": 40,
   "id": "8388ee7b",
   "metadata": {},
   "outputs": [
    {
     "name": "stdout",
     "output_type": "stream",
     "text": [
      "Score is 79.87012987012987\n",
      "              precision    recall  f1-score   support\n",
      "\n",
      "           0       0.91      0.82      0.86       118\n",
      "           1       0.55      0.72      0.63        36\n",
      "\n",
      "    accuracy                           0.80       154\n",
      "   macro avg       0.73      0.77      0.74       154\n",
      "weighted avg       0.82      0.80      0.81       154\n",
      "\n"
     ]
    }
   ],
   "source": [
    "from sklearn.neighbors import KNeighborsClassifier\n",
    "knn1 = KNeighborsClassifier(n_neighbors=19)\n",
    "knn1.fit(X_train, y_train)\n",
    "y_pred = knn1.predict(X_test)\n",
    "print(\"Score is\",knn1.score(X_test,y_test)*100)\n",
    "from sklearn.metrics import classification_report\n",
    "print(classification_report(y_pred, y_test))"
   ]
  },
  {
   "cell_type": "code",
   "execution_count": 59,
   "id": "83c0eb79",
   "metadata": {},
   "outputs": [
    {
     "name": "stdout",
     "output_type": "stream",
     "text": [
      "Score is 75.97402597402598\n",
      "              precision    recall  f1-score   support\n",
      "\n",
      "           0       0.87      0.80      0.83       116\n",
      "           1       0.51      0.63      0.56        38\n",
      "\n",
      "    accuracy                           0.76       154\n",
      "   macro avg       0.69      0.72      0.70       154\n",
      "weighted avg       0.78      0.76      0.77       154\n",
      "\n"
     ]
    }
   ],
   "source": [
    "X1_train, X1_test, y_train, y_test = train_test_split(X1, y, test_size=0.2, random_state=0)\n",
    "from sklearn.neighbors import KNeighborsClassifier\n",
    "knn1 = KNeighborsClassifier(n_neighbors=19)\n",
    "knn1.fit(X1_train, y_train)\n",
    "y_pred = knn1.predict(X1_test)\n",
    "print(\"Score is\",knn1.score(X1_test,y_test)*100)\n",
    "from sklearn.metrics import classification_report\n",
    "print(classification_report(y_pred, y_test))"
   ]
  },
  {
   "cell_type": "code",
   "execution_count": 60,
   "id": "45dc1a9e",
   "metadata": {},
   "outputs": [
    {
     "name": "stdout",
     "output_type": "stream",
     "text": [
      "Score is 71.42857142857143\n",
      "              precision    recall  f1-score   support\n",
      "\n",
      "           0       0.82      0.78      0.80       113\n",
      "           1       0.47      0.54      0.50        41\n",
      "\n",
      "    accuracy                           0.71       154\n",
      "   macro avg       0.65      0.66      0.65       154\n",
      "weighted avg       0.73      0.71      0.72       154\n",
      "\n"
     ]
    }
   ],
   "source": [
    "X2_train, X2_test, y_train, y_test = train_test_split(X2, y, test_size=0.2, random_state=0)\n",
    "from sklearn.neighbors import KNeighborsClassifier\n",
    "knn1 = KNeighborsClassifier(n_neighbors=19)\n",
    "knn1.fit(X2_train, y_train)\n",
    "y_pred = knn1.predict(X2_test)\n",
    "print(\"Score is\",knn1.score(X2_test,y_test)*100)\n",
    "from sklearn.metrics import classification_report\n",
    "print(classification_report(y_pred, y_test))"
   ]
  }
 ],
 "metadata": {
  "kernelspec": {
   "display_name": "Python 3 (ipykernel)",
   "language": "python",
   "name": "python3"
  },
  "language_info": {
   "codemirror_mode": {
    "name": "ipython",
    "version": 3
   },
   "file_extension": ".py",
   "mimetype": "text/x-python",
   "name": "python",
   "nbconvert_exporter": "python",
   "pygments_lexer": "ipython3",
   "version": "3.9.12"
  }
 },
 "nbformat": 4,
 "nbformat_minor": 5
}
