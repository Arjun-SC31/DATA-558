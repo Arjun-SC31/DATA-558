{
 "cells": [
  {
   "cell_type": "markdown",
   "id": "c0a2cba8",
   "metadata": {},
   "source": [
    "# DATA 558 - Statistical Machine Learning\n",
    "## Spring 2023\n",
    "### Arjun Sharma"
   ]
  },
  {
   "cell_type": "markdown",
   "id": "2c93fedc",
   "metadata": {},
   "source": [
    "# Conceptual Questions"
   ]
  },
  {
   "cell_type": "markdown",
   "id": "6bdd14fb",
   "metadata": {},
   "source": [
    "# Problem 1\n",
    "\n",
    "Describe advantages and disadvantages of tree-based methods. Describe\n",
    "also the motivation behind each of the methods: bagging, random forests, and boosting. Compare\n",
    "and contrast these methods; make sure you describe a feature that is special/unique about each\n",
    "of them."
   ]
  },
  {
   "cell_type": "markdown",
   "id": "93fb37c0",
   "metadata": {},
   "source": [
    "### Solution\n",
    "\n",
    "### Advantages of tree-based models:\n",
    "\n",
    "1. Handling Non-linearity: Trees can capture non-linear relationships between predictors and the target variable without explicitly requiring feature engineering or transformations. They can handle complex decision boundaries and interactions between features.\n",
    "\n",
    "2. Robust to Outliers and null values: Tree-based methods are less affected by outliers in the data compared to algorithms like linear regression, Support Vector Machines, K-Nearest Neighbors, etc., They can also handle null values in the data.\n",
    "\n",
    "3. Feature Importance: Tree-based methods can provide measures of feature importance, indicating which predictors have the most influence on the target variable, which is helpful during feature selection.\n",
    "\n",
    "4. Non-parametric: Tree-based models make very few assumptions about the underlying data distribution which allows them to capture complicated relationships without imposing strict assumptions.\n",
    "\n",
    "5. Robust Against Irrelevant Features: Tree-based methods can handle irrelevant features, as they identify the more informative features during the splitting process.\n",
    "\n",
    "\n",
    "### Disadvantages of tree-based models:\n",
    "\n",
    "1. Overfitting: Trees have a tendency to overfit the training data, especially when the tree depth is not limited. This can lead to poor generalization performance on unseen data.\n",
    "\n",
    "2. Sensitivity: Tree-based methods are sensitive to small changes in the training data, which can result in different trees and potentially different predictions. \n",
    "\n",
    "3. Bias towards Dominant Features: Decision trees can be biased towards features with higher cardinality. This  can lead to the dominance of certain features over others.\n",
    "\n",
    "\n",
    "### Motivation Behind Bagging, Random Forests, Boosting\n",
    "\n",
    "Bagging:\n",
    "Bagging aims to reduce the variance and improve the stability of a model by generating multiple subsets of the training data and training multiple models on these subsets. Each model is trained independently, and their predictions are combined through aggregation to obtain the final prediction.\n",
    "\n",
    "Random Forests:\n",
    "Random Forests aim to reduce the variance, sensitivity, and bias in individual decision trees by creating multiple decision trees that are uncorrelated, in order to improve generalization as a group.\n",
    "\n",
    "Boosting:\n",
    "Boosting aims to sequentially build a strong ensemble by focusing on the misclassified samples from the previous models. The motivation is to improve the model's predictive performance by iteratively adjusting the weights or importance of training samples to give more emphasis to the difficult samples.\n",
    "\n",
    "\n",
    "### Comparison:\n",
    "\n",
    "#### Bagging vs Boosting\n",
    "1. Bagging uses bootstrapping to create subsets of the training data, while boosting adjusts the sample weights or residuals.\n",
    "\n",
    "2. Bagging trains models independently, while boosting sequentially builds models.\n",
    "\n",
    "3. Bagging reduces variance and overfitting, while boosting reduces bias and focuses on challenging samples.\n",
    "\n",
    "4. Boosting typically yields higher predictive accuracy by focusing on challenging instances, but it may be more sensitive to noisy data.\n",
    "\n",
    "#### Random Forest vs Boosting\n",
    "1. Random forest uses bootstrapping to create subsets of the training data, while boosting adjusts the sample weights or residuals.\n",
    "\n",
    "2. Random forest trains models independently, while boosting sequentially builds models.\n",
    "\n",
    "3. Random forest reduces variance and overfitting, while boosting reduces bias and focuses on challenging samples.\n",
    "\n",
    "4. Random forest introduces randomness in feature selection, whereas boosting adjusts the weights/importance of samples.\n",
    "\n",
    "5. Boosting typically yields higher predictive accuracy by focusing on challenging instances, but it may be more sensitive to noisyd data.\n",
    "\n",
    "#### Bagging vs Random Forest\n",
    "1. Random forest is less prone to overfitting and often have better generalization performance than bagging.\n",
    "\n",
    "2. Random Forest is an ensemble of only decision trees, whereas bagging by itself can be an ensemble of various different kinds of models not restricted to decision trees.\n",
    "\n",
    "### Unique Features:\n",
    "\n",
    "#### Bagging:\n",
    "\n",
    "Bagging aggregates the predictions of individual models through averaging or majority voting for regression and classification tasks respectively to obtain the final prediction.\n",
    "\n",
    "#### Random Forests:\n",
    "\n",
    "The unique feature of random forests is the random subset of features considered at each split in the decision tree.\n",
    "Random feature selection helps decorrelate the trees and encourages them to explore different aspects of the data, leading to a more diverse ensemble.\n",
    "\n",
    "#### Boosting:\n",
    "\n",
    "Boosting involved adaptive adjustment of sample weights or importance during the iterative process of giving rise to the strong learner as a result of the sequence of weak learners. It assigns higher weights to misclassified samples or the residuals of the previous models, emphasizing difficult samples over the sequence of weak learners."
   ]
  },
  {
   "cell_type": "markdown",
   "id": "59fd65e1",
   "metadata": {},
   "source": [
    "# Problem 2\n",
    "\n",
    "### Please determine whether following practices are good or not. Please explain why in either case."
   ]
  },
  {
   "cell_type": "markdown",
   "id": "852ac6bf",
   "metadata": {},
   "source": [
    "### (a) \n",
    "We have a prediction task as hand and we turn to using decision trees to learn a prediction\n",
    "model. We remember that bagging is a useful way to improve their performance. So we\n",
    "use bagging to learn a prediction model based on an average of B trees. We show the final\n",
    "prediction model to our boss and they comment that the prediction model seems to be quite\n",
    "biased. So we increase B in our bagging procedure."
   ]
  },
  {
   "cell_type": "markdown",
   "id": "403d82b0",
   "metadata": {},
   "source": [
    "### Solution:\n",
    "This is bad practise. Increasing the number of trees in bagging can help reduce variance and improve the stability of the prediction model. However, it may not directly address the issue of bias.\n",
    "\n",
    "It would be more effective to investigate the sources of bias in the model and address them. The person working on this bagging technique should look into other concerns like feature engineering, data quality, etc.,\n",
    "\n",
    "They could also look at adjusting other hyperparameters, trying newer models or collecting even more data."
   ]
  },
  {
   "cell_type": "markdown",
   "id": "abfbe344",
   "metadata": {},
   "source": [
    "### (b):\n",
    "We are running a prediction model over a large number of predictors. For our purposes,\n",
    "computational cost of learning the prediction model is a huge priority, although of course we\n",
    "still do want a prediction model that is accurate. We remember that boosting algorithms\n",
    "perform very well and use them for our task."
   ]
  },
  {
   "cell_type": "markdown",
   "id": "14b19021",
   "metadata": {},
   "source": [
    "### Solution:\n",
    "\n",
    "This is bad practise. Boosting Algorithms are one of the most computationally expensive Machine Learning models, and hence may not be contextually appropriate when we are trying to conserve our computational resources. \n",
    "\n",
    "Instead, there should be more emphasis on feature selection and engineering when we have a large number of features. \n",
    "\n",
    "Boosting is hard to interpret, and hence we would encounter more difficulty in trying to ascertain the more important features out of the large number of features at our disposal. Hence, using simpler models would be recommended as well."
   ]
  },
  {
   "cell_type": "markdown",
   "id": "a2245537",
   "metadata": {},
   "source": [
    "### (c) \n",
    "We apply the same boosting algorithm (with the same weak learners) on multiple datasets\n",
    "generating from the same mechanism and notice that the output is highly variable. To\n",
    "decrease the variability, we use more expressive (more complex) learners."
   ]
  },
  {
   "cell_type": "markdown",
   "id": "877bce85",
   "metadata": {},
   "source": [
    "### Solution:\n",
    "\n",
    "This is bad practise. \n",
    "Using more complex learners to decrease variability in the output of a boosting algorithm on multiple datasets generated from the same mechanism may lead to overfitting and worsen the performance of the boosting algorithm.\n",
    "\n",
    "It can lead to overfitting and higher variance, making the model even more susceptible to noise, exacerbating the tendency of boosting models to be sensitive to noisy data.\n",
    "\n",
    "Furthermore, this would make it even more computationally expensive to use more complex learners. "
   ]
  },
  {
   "cell_type": "markdown",
   "id": "b6bc05d8",
   "metadata": {},
   "source": [
    "### (d) \n",
    "We apply a boosting algorithm with fixed B (number of iterations in the algorithm) and\n",
    "notice that the prediction model is biased. So we increase B and learn a new prediction\n",
    "model."
   ]
  },
  {
   "cell_type": "markdown",
   "id": "d4adbd59",
   "metadata": {},
   "source": [
    "### Solution:\n",
    "This is bad practise. Increasing B can help with some of the reduce in variance and can improve the stability of the prediction model. However, it may not directly address the issue of bias.\n",
    "\n",
    "It would be more effective to investigate the sources of bias in the model and address them. It would make more sense to look into other concerns like feature engineering, data quality, etc., that are more fundamental in addressing bias.\n",
    "\n",
    "They could also look at adjusting other hyperparameters, trying newer models or collecting even more data."
   ]
  },
  {
   "cell_type": "markdown",
   "id": "28ecc46f",
   "metadata": {},
   "source": [
    "### (e):\n",
    "We apply the random forest algorithm and notice that the output is highly biased. To mitigate\n",
    "the bias, we increase the number of predictors that are considered at every split when learning\n",
    "the decision trees."
   ]
  },
  {
   "cell_type": "markdown",
   "id": "0cbaf4eb",
   "metadata": {},
   "source": [
    "### Solution: \n",
    "This is bad practise. Increasing the number of predictors considered at every split when learning decision trees in a random forest algorithm to mitigate bias can lead to more issues without directly addressing the issue of bias.\n",
    "\n",
    "Increasing the number of predictors at each split could increase the similarity in the sub-trees of the model. This can lead to similar results in the trees within the ensemble. Also, it would be more computationally expensive as each of the decision trees constituting the random forest consider more predictors\n",
    "\n",
    "It would be more effective to investigate the sources of bias in the model and address them. It would make more sense to look into other concerns like feature engineering, data quality, etc., that are more fundamental in addressing bias.\n",
    "\n",
    "They could also look at adjusting other hyperparameters, trying newer models or collecting even more data."
   ]
  },
  {
   "cell_type": "markdown",
   "id": "d2cbcc49",
   "metadata": {},
   "source": [
    "# (f):\n",
    "\n",
    "We have a prediction task at hand and we know based on domain expertise that a good\n",
    "prediction model would not be axis aligned with the predictors. So instead of using random\n",
    "forests off the shelf, we first perform PCA to get a set of transformed features and then apply\n",
    "random forests."
   ]
  },
  {
   "cell_type": "markdown",
   "id": "be5c0097",
   "metadata": {},
   "source": [
    "### Solution:\n",
    "\n",
    "If we are not too concerned about the interpretability, this can be considered good practise.\n",
    "\n",
    "Considering we know that a good model would not be axis aligned with the predictors, it would make sense to perform PCA to identify the principal components. This would lead to decorrelated features, and a smaller number of features.\n",
    "\n",
    "If the number of features is high, using PCA could decrease the number of features dramatically. This is especially useful considering that Random Forests don't perform well with higher dimensional data. In addition, it would decrease the computational costs with creating a random forest model."
   ]
  },
  {
   "cell_type": "markdown",
   "id": "71ed24a5",
   "metadata": {},
   "source": [
    "## Question 1\n",
    "In this question, you need to first generate 100 observations related to\n",
    "house price described in (a) and then use tree-based method for classification."
   ]
  },
  {
   "cell_type": "code",
   "execution_count": 1,
   "id": "ca9f6a93",
   "metadata": {},
   "outputs": [],
   "source": [
    "import numpy as np\n",
    "import pandas as pd"
   ]
  },
  {
   "cell_type": "code",
   "execution_count": 2,
   "id": "2594f532",
   "metadata": {},
   "outputs": [],
   "source": [
    "np.random.seed(1)"
   ]
  },
  {
   "cell_type": "code",
   "execution_count": 3,
   "id": "a81ef8cb",
   "metadata": {},
   "outputs": [
    {
     "name": "stderr",
     "output_type": "stream",
     "text": [
      "C:\\Users\\arjun\\AppData\\Local\\Temp\\ipykernel_24172\\3495582695.py:13: RuntimeWarning: overflow encountered in exp\n",
      "  y = np.random.binomial(1, 1 / (1 + np.exp(166750 - price)), size=n)\n"
     ]
    }
   ],
   "source": [
    "# Data generation\n",
    "n = 100\n",
    "\n",
    "size = np.random.normal(loc=1500, scale=300, size=n)\n",
    "bedrooms = np.random.choice([1, 2, 3, 4, 5], size=n)\n",
    "age = np.random.normal(loc=20, scale=5, size=n)\n",
    "renovation = np.random.binomial(1, 0.3, size=n)\n",
    "noise_level = np.random.choice([1, 2, 3, 4, 5, 6, 7, 8, 9, 10], size=n)\n",
    "\n",
    "\n",
    "price = size * 100 + bedrooms * 5000 - age * 200 + renovation * 10000 + noise_level * 500\n",
    "\n",
    "y = np.random.binomial(1, 1 / (1 + np.exp(166750 - price)), size=n)\n",
    "\n",
    "\n",
    "df = pd.DataFrame({'size': size, 'bedrooms': bedrooms, 'age': age, 'renovation': renovation,\n",
    "                     'noise_level': noise_level, 'y': y})\n"
   ]
  },
  {
   "cell_type": "code",
   "execution_count": 4,
   "id": "a05bbff1",
   "metadata": {},
   "outputs": [
    {
     "data": {
      "text/html": [
       "<div>\n",
       "<style scoped>\n",
       "    .dataframe tbody tr th:only-of-type {\n",
       "        vertical-align: middle;\n",
       "    }\n",
       "\n",
       "    .dataframe tbody tr th {\n",
       "        vertical-align: top;\n",
       "    }\n",
       "\n",
       "    .dataframe thead th {\n",
       "        text-align: right;\n",
       "    }\n",
       "</style>\n",
       "<table border=\"1\" class=\"dataframe\">\n",
       "  <thead>\n",
       "    <tr style=\"text-align: right;\">\n",
       "      <th></th>\n",
       "      <th>size</th>\n",
       "      <th>bedrooms</th>\n",
       "      <th>age</th>\n",
       "      <th>renovation</th>\n",
       "      <th>noise_level</th>\n",
       "      <th>y</th>\n",
       "    </tr>\n",
       "  </thead>\n",
       "  <tbody>\n",
       "    <tr>\n",
       "      <th>0</th>\n",
       "      <td>1987.303609</td>\n",
       "      <td>2</td>\n",
       "      <td>15.832214</td>\n",
       "      <td>0</td>\n",
       "      <td>6</td>\n",
       "      <td>1</td>\n",
       "    </tr>\n",
       "    <tr>\n",
       "      <th>1</th>\n",
       "      <td>1316.473076</td>\n",
       "      <td>3</td>\n",
       "      <td>18.103206</td>\n",
       "      <td>0</td>\n",
       "      <td>5</td>\n",
       "      <td>0</td>\n",
       "    </tr>\n",
       "    <tr>\n",
       "      <th>2</th>\n",
       "      <td>1341.548474</td>\n",
       "      <td>5</td>\n",
       "      <td>17.281888</td>\n",
       "      <td>0</td>\n",
       "      <td>4</td>\n",
       "      <td>0</td>\n",
       "    </tr>\n",
       "    <tr>\n",
       "      <th>3</th>\n",
       "      <td>1178.109413</td>\n",
       "      <td>4</td>\n",
       "      <td>25.418088</td>\n",
       "      <td>0</td>\n",
       "      <td>1</td>\n",
       "      <td>0</td>\n",
       "    </tr>\n",
       "    <tr>\n",
       "      <th>4</th>\n",
       "      <td>1759.622289</td>\n",
       "      <td>1</td>\n",
       "      <td>20.609030</td>\n",
       "      <td>1</td>\n",
       "      <td>7</td>\n",
       "      <td>1</td>\n",
       "    </tr>\n",
       "  </tbody>\n",
       "</table>\n",
       "</div>"
      ],
      "text/plain": [
       "          size  bedrooms        age  renovation  noise_level  y\n",
       "0  1987.303609         2  15.832214           0            6  1\n",
       "1  1316.473076         3  18.103206           0            5  0\n",
       "2  1341.548474         5  17.281888           0            4  0\n",
       "3  1178.109413         4  25.418088           0            1  0\n",
       "4  1759.622289         1  20.609030           1            7  1"
      ]
     },
     "execution_count": 4,
     "metadata": {},
     "output_type": "execute_result"
    }
   ],
   "source": [
    "df.head()"
   ]
  },
  {
   "cell_type": "markdown",
   "id": "dde2f2b5",
   "metadata": {},
   "source": [
    "# Decision Tree\n",
    "\n",
    "(b) Decision trees with cost complexity pruning. Please use cross validation to determine how\n",
    "much to prune. Please report the confusion matrix on both the training data and test data."
   ]
  },
  {
   "cell_type": "code",
   "execution_count": 5,
   "id": "5f180260",
   "metadata": {},
   "outputs": [],
   "source": [
    "from sklearn.tree import DecisionTreeClassifier\n",
    "from sklearn.model_selection import cross_val_score, train_test_split\n",
    "from sklearn.metrics import confusion_matrix"
   ]
  },
  {
   "cell_type": "code",
   "execution_count": 6,
   "id": "9f3cbc51",
   "metadata": {},
   "outputs": [],
   "source": [
    "X = df.drop('y', axis=1)\n",
    "y = df['y']"
   ]
  },
  {
   "cell_type": "code",
   "execution_count": 7,
   "id": "9bdc70e4",
   "metadata": {},
   "outputs": [],
   "source": [
    "X_train, X_test, y_train, y_test = train_test_split(X, y, test_size=0.2)"
   ]
  },
  {
   "cell_type": "code",
   "execution_count": 8,
   "id": "b73db250",
   "metadata": {},
   "outputs": [],
   "source": [
    "clf = DecisionTreeClassifier()\n",
    "\n",
    "# Perform cross-validation to determine the optimal pruning parameter\n",
    "path = clf.cost_complexity_pruning_path(X_train, y_train)\n",
    "ccp_alphas = path.ccp_alphas[:-1]  # Exclude the maximum alpha\n",
    "scores = []\n",
    "for alpha in ccp_alphas:\n",
    "    clf.set_params(ccp_alpha=alpha)\n",
    "    cv_score = cross_val_score(clf, X_train, y_train, cv=5)\n",
    "    scores.append(cv_score.mean())"
   ]
  },
  {
   "cell_type": "code",
   "execution_count": 9,
   "id": "1c086220",
   "metadata": {},
   "outputs": [],
   "source": [
    "# Find the optimal pruning parameter\n",
    "optimal_alpha = ccp_alphas[np.argmax(scores)]"
   ]
  },
  {
   "cell_type": "code",
   "execution_count": 10,
   "id": "2740b7db",
   "metadata": {},
   "outputs": [
    {
     "data": {
      "text/plain": [
       "DecisionTreeClassifier(ccp_alpha=0.019375000000000017)"
      ]
     },
     "execution_count": 10,
     "metadata": {},
     "output_type": "execute_result"
    }
   ],
   "source": [
    "# Train the decision tree classifier with the optimal pruning parameter\n",
    "clf.set_params(ccp_alpha=optimal_alpha)\n",
    "clf.fit(X_train, y_train)"
   ]
  },
  {
   "cell_type": "code",
   "execution_count": 11,
   "id": "30022dbc",
   "metadata": {},
   "outputs": [],
   "source": [
    "y_train_pred = clf.predict(X_train)\n",
    "y_test_pred = clf.predict(X_test)"
   ]
  },
  {
   "cell_type": "code",
   "execution_count": 12,
   "id": "b59c7819",
   "metadata": {},
   "outputs": [],
   "source": [
    "# Compute the confusion matrix for training and test data\n",
    "train_confusion_matrix = confusion_matrix(y_train, y_train_pred)\n",
    "test_confusion_matrix = confusion_matrix(y_test, y_test_pred)"
   ]
  },
  {
   "cell_type": "code",
   "execution_count": 13,
   "id": "98e39ad9",
   "metadata": {},
   "outputs": [],
   "source": [
    "TP_train = train_confusion_matrix[0][0]\n",
    "FP_train = train_confusion_matrix[0][1]\n",
    "FN_train = train_confusion_matrix[1][0]\n",
    "TN_train = train_confusion_matrix[1][1]"
   ]
  },
  {
   "cell_type": "code",
   "execution_count": 14,
   "id": "54d2ee0b",
   "metadata": {},
   "outputs": [
    {
     "name": "stdout",
     "output_type": "stream",
     "text": [
      "Confusion Matrix for Training Data: \n",
      " [[37  3]\n",
      " [ 0 40]]\n"
     ]
    }
   ],
   "source": [
    "print(\"Confusion Matrix for Training Data: \\n\", train_confusion_matrix)"
   ]
  },
  {
   "cell_type": "code",
   "execution_count": 15,
   "id": "06063ede",
   "metadata": {},
   "outputs": [
    {
     "name": "stdout",
     "output_type": "stream",
     "text": [
      "Confusion Matrix fpr Test Data: \n",
      " [[ 9  1]\n",
      " [ 0 10]]\n"
     ]
    }
   ],
   "source": [
    "print(\"Confusion Matrix fpr Test Data: \\n\", test_confusion_matrix)"
   ]
  },
  {
   "cell_type": "code",
   "execution_count": 16,
   "id": "34d13611",
   "metadata": {},
   "outputs": [
    {
     "name": "stdout",
     "output_type": "stream",
     "text": [
      "{'ccp_alpha': 0.019375000000000017, 'class_weight': None, 'criterion': 'gini', 'max_depth': None, 'max_features': None, 'max_leaf_nodes': None, 'min_impurity_decrease': 0.0, 'min_samples_leaf': 1, 'min_samples_split': 2, 'min_weight_fraction_leaf': 0.0, 'random_state': None, 'splitter': 'best'}\n"
     ]
    }
   ],
   "source": [
    "print(clf.get_params())"
   ]
  },
  {
   "cell_type": "markdown",
   "id": "a4f0d121",
   "metadata": {},
   "source": [
    "# RandomForest Classifier\n",
    "(c) Random forests. You can use cross-validation to choose hyper-parameters. Please select the\n",
    "range of hyper-parameters by your own. Please report the confusion matrix on both the\n",
    "training data and test data. "
   ]
  },
  {
   "cell_type": "code",
   "execution_count": 17,
   "id": "759a2eec",
   "metadata": {},
   "outputs": [],
   "source": [
    "from sklearn.ensemble import RandomForestClassifier"
   ]
  },
  {
   "cell_type": "code",
   "execution_count": 18,
   "id": "b7532874",
   "metadata": {},
   "outputs": [],
   "source": [
    "### Hyperparameter tuning\n",
    "n_estimators = [int(x) for x in np.linspace(start = 100, stop = 1200, num = 12)]\n",
    "max_features = ['auto', 'sqrt']\n",
    "max_depth = [int(x) for x in np.linspace(start = 5, stop = 30, num = 6)]\n",
    "min_samples_split = [2, 5, 10, 15, 100]\n",
    "min_samples_leaf = [1, 2, 5, 10]"
   ]
  },
  {
   "cell_type": "code",
   "execution_count": 19,
   "id": "12623396",
   "metadata": {},
   "outputs": [],
   "source": [
    "from sklearn.model_selection import RandomizedSearchCV"
   ]
  },
  {
   "cell_type": "code",
   "execution_count": 20,
   "id": "5f7d9738",
   "metadata": {},
   "outputs": [
    {
     "name": "stdout",
     "output_type": "stream",
     "text": [
      "{'n_estimators': [100, 200, 300, 400, 500, 600, 700, 800, 900, 1000, 1100, 1200], 'max_features': ['auto', 'sqrt'], 'min_samples_split': [2, 5, 10, 15, 100], 'min_samples_leaf': [1, 2, 5, 10], 'max_depth': [5, 10, 15, 20, 25, 30]}\n"
     ]
    }
   ],
   "source": [
    "# Creating a random grid \n",
    "\n",
    "random_grid = {\n",
    "    'n_estimators': n_estimators,\n",
    "    'max_features': max_features,\n",
    "    'min_samples_split': min_samples_split,\n",
    "    'min_samples_leaf': min_samples_leaf,\n",
    "    'max_depth': max_depth\n",
    "}\n",
    "\n",
    "print(random_grid)"
   ]
  },
  {
   "cell_type": "code",
   "execution_count": 21,
   "id": "682ecc06",
   "metadata": {},
   "outputs": [],
   "source": [
    "rf = RandomForestClassifier()"
   ]
  },
  {
   "cell_type": "code",
   "execution_count": 22,
   "id": "094c80b2",
   "metadata": {},
   "outputs": [],
   "source": [
    "rf_random = RandomizedSearchCV(estimator = rf, param_distributions = random_grid, \n",
    "                               scoring = 'accuracy', n_iter = 20, cv = 5, verbose = 2, n_jobs = 1)"
   ]
  },
  {
   "cell_type": "code",
   "execution_count": 23,
   "id": "582ae222",
   "metadata": {},
   "outputs": [
    {
     "name": "stdout",
     "output_type": "stream",
     "text": [
      "Fitting 5 folds for each of 20 candidates, totalling 100 fits\n",
      "[CV] END max_depth=25, max_features=auto, min_samples_leaf=10, min_samples_split=100, n_estimators=600; total time=   0.3s\n",
      "[CV] END max_depth=25, max_features=auto, min_samples_leaf=10, min_samples_split=100, n_estimators=600; total time=   0.3s\n",
      "[CV] END max_depth=25, max_features=auto, min_samples_leaf=10, min_samples_split=100, n_estimators=600; total time=   0.3s\n",
      "[CV] END max_depth=25, max_features=auto, min_samples_leaf=10, min_samples_split=100, n_estimators=600; total time=   0.3s\n",
      "[CV] END max_depth=25, max_features=auto, min_samples_leaf=10, min_samples_split=100, n_estimators=600; total time=   0.3s\n",
      "[CV] END max_depth=25, max_features=auto, min_samples_leaf=1, min_samples_split=10, n_estimators=1100; total time=   0.6s\n",
      "[CV] END max_depth=25, max_features=auto, min_samples_leaf=1, min_samples_split=10, n_estimators=1100; total time=   0.6s\n",
      "[CV] END max_depth=25, max_features=auto, min_samples_leaf=1, min_samples_split=10, n_estimators=1100; total time=   0.6s\n",
      "[CV] END max_depth=25, max_features=auto, min_samples_leaf=1, min_samples_split=10, n_estimators=1100; total time=   0.7s\n",
      "[CV] END max_depth=25, max_features=auto, min_samples_leaf=1, min_samples_split=10, n_estimators=1100; total time=   0.6s\n",
      "[CV] END max_depth=15, max_features=sqrt, min_samples_leaf=1, min_samples_split=100, n_estimators=300; total time=   0.1s\n",
      "[CV] END max_depth=15, max_features=sqrt, min_samples_leaf=1, min_samples_split=100, n_estimators=300; total time=   0.1s\n",
      "[CV] END max_depth=15, max_features=sqrt, min_samples_leaf=1, min_samples_split=100, n_estimators=300; total time=   0.1s\n",
      "[CV] END max_depth=15, max_features=sqrt, min_samples_leaf=1, min_samples_split=100, n_estimators=300; total time=   0.1s\n",
      "[CV] END max_depth=15, max_features=sqrt, min_samples_leaf=1, min_samples_split=100, n_estimators=300; total time=   0.1s\n",
      "[CV] END max_depth=25, max_features=auto, min_samples_leaf=2, min_samples_split=5, n_estimators=1200; total time=   0.7s\n",
      "[CV] END max_depth=25, max_features=auto, min_samples_leaf=2, min_samples_split=5, n_estimators=1200; total time=   0.7s\n",
      "[CV] END max_depth=25, max_features=auto, min_samples_leaf=2, min_samples_split=5, n_estimators=1200; total time=   0.7s\n",
      "[CV] END max_depth=25, max_features=auto, min_samples_leaf=2, min_samples_split=5, n_estimators=1200; total time=   0.7s\n",
      "[CV] END max_depth=25, max_features=auto, min_samples_leaf=2, min_samples_split=5, n_estimators=1200; total time=   0.7s\n",
      "[CV] END max_depth=15, max_features=sqrt, min_samples_leaf=2, min_samples_split=10, n_estimators=100; total time=   0.0s\n",
      "[CV] END max_depth=15, max_features=sqrt, min_samples_leaf=2, min_samples_split=10, n_estimators=100; total time=   0.0s\n",
      "[CV] END max_depth=15, max_features=sqrt, min_samples_leaf=2, min_samples_split=10, n_estimators=100; total time=   0.0s\n",
      "[CV] END max_depth=15, max_features=sqrt, min_samples_leaf=2, min_samples_split=10, n_estimators=100; total time=   0.0s\n",
      "[CV] END max_depth=15, max_features=sqrt, min_samples_leaf=2, min_samples_split=10, n_estimators=100; total time=   0.0s\n",
      "[CV] END max_depth=20, max_features=sqrt, min_samples_leaf=5, min_samples_split=10, n_estimators=1200; total time=   0.7s\n",
      "[CV] END max_depth=20, max_features=sqrt, min_samples_leaf=5, min_samples_split=10, n_estimators=1200; total time=   0.7s\n",
      "[CV] END max_depth=20, max_features=sqrt, min_samples_leaf=5, min_samples_split=10, n_estimators=1200; total time=   0.6s\n",
      "[CV] END max_depth=20, max_features=sqrt, min_samples_leaf=5, min_samples_split=10, n_estimators=1200; total time=   0.7s\n",
      "[CV] END max_depth=20, max_features=sqrt, min_samples_leaf=5, min_samples_split=10, n_estimators=1200; total time=   0.7s\n",
      "[CV] END max_depth=25, max_features=sqrt, min_samples_leaf=1, min_samples_split=10, n_estimators=400; total time=   0.2s\n",
      "[CV] END max_depth=25, max_features=sqrt, min_samples_leaf=1, min_samples_split=10, n_estimators=400; total time=   0.2s\n",
      "[CV] END max_depth=25, max_features=sqrt, min_samples_leaf=1, min_samples_split=10, n_estimators=400; total time=   0.2s\n",
      "[CV] END max_depth=25, max_features=sqrt, min_samples_leaf=1, min_samples_split=10, n_estimators=400; total time=   0.2s\n",
      "[CV] END max_depth=25, max_features=sqrt, min_samples_leaf=1, min_samples_split=10, n_estimators=400; total time=   0.2s\n",
      "[CV] END max_depth=20, max_features=sqrt, min_samples_leaf=10, min_samples_split=2, n_estimators=900; total time=   0.5s\n",
      "[CV] END max_depth=20, max_features=sqrt, min_samples_leaf=10, min_samples_split=2, n_estimators=900; total time=   0.5s\n",
      "[CV] END max_depth=20, max_features=sqrt, min_samples_leaf=10, min_samples_split=2, n_estimators=900; total time=   0.5s\n",
      "[CV] END max_depth=20, max_features=sqrt, min_samples_leaf=10, min_samples_split=2, n_estimators=900; total time=   0.5s\n",
      "[CV] END max_depth=20, max_features=sqrt, min_samples_leaf=10, min_samples_split=2, n_estimators=900; total time=   0.5s\n",
      "[CV] END max_depth=30, max_features=auto, min_samples_leaf=5, min_samples_split=2, n_estimators=200; total time=   0.0s\n",
      "[CV] END max_depth=30, max_features=auto, min_samples_leaf=5, min_samples_split=2, n_estimators=200; total time=   0.0s\n",
      "[CV] END max_depth=30, max_features=auto, min_samples_leaf=5, min_samples_split=2, n_estimators=200; total time=   0.0s\n",
      "[CV] END max_depth=30, max_features=auto, min_samples_leaf=5, min_samples_split=2, n_estimators=200; total time=   0.0s\n",
      "[CV] END max_depth=30, max_features=auto, min_samples_leaf=5, min_samples_split=2, n_estimators=200; total time=   0.0s\n",
      "[CV] END max_depth=20, max_features=auto, min_samples_leaf=1, min_samples_split=2, n_estimators=100; total time=   0.0s\n",
      "[CV] END max_depth=20, max_features=auto, min_samples_leaf=1, min_samples_split=2, n_estimators=100; total time=   0.0s\n",
      "[CV] END max_depth=20, max_features=auto, min_samples_leaf=1, min_samples_split=2, n_estimators=100; total time=   0.0s\n",
      "[CV] END max_depth=20, max_features=auto, min_samples_leaf=1, min_samples_split=2, n_estimators=100; total time=   0.0s\n",
      "[CV] END max_depth=20, max_features=auto, min_samples_leaf=1, min_samples_split=2, n_estimators=100; total time=   0.0s\n",
      "[CV] END max_depth=25, max_features=sqrt, min_samples_leaf=5, min_samples_split=2, n_estimators=100; total time=   0.0s\n",
      "[CV] END max_depth=25, max_features=sqrt, min_samples_leaf=5, min_samples_split=2, n_estimators=100; total time=   0.0s\n",
      "[CV] END max_depth=25, max_features=sqrt, min_samples_leaf=5, min_samples_split=2, n_estimators=100; total time=   0.0s\n",
      "[CV] END max_depth=25, max_features=sqrt, min_samples_leaf=5, min_samples_split=2, n_estimators=100; total time=   0.0s\n",
      "[CV] END max_depth=25, max_features=sqrt, min_samples_leaf=5, min_samples_split=2, n_estimators=100; total time=   0.0s\n",
      "[CV] END max_depth=15, max_features=sqrt, min_samples_leaf=10, min_samples_split=100, n_estimators=400; total time=   0.1s\n",
      "[CV] END max_depth=15, max_features=sqrt, min_samples_leaf=10, min_samples_split=100, n_estimators=400; total time=   0.2s\n",
      "[CV] END max_depth=15, max_features=sqrt, min_samples_leaf=10, min_samples_split=100, n_estimators=400; total time=   0.2s\n",
      "[CV] END max_depth=15, max_features=sqrt, min_samples_leaf=10, min_samples_split=100, n_estimators=400; total time=   0.1s\n",
      "[CV] END max_depth=15, max_features=sqrt, min_samples_leaf=10, min_samples_split=100, n_estimators=400; total time=   0.2s\n",
      "[CV] END max_depth=30, max_features=sqrt, min_samples_leaf=1, min_samples_split=2, n_estimators=1000; total time=   0.5s\n",
      "[CV] END max_depth=30, max_features=sqrt, min_samples_leaf=1, min_samples_split=2, n_estimators=1000; total time=   0.5s\n",
      "[CV] END max_depth=30, max_features=sqrt, min_samples_leaf=1, min_samples_split=2, n_estimators=1000; total time=   0.5s\n",
      "[CV] END max_depth=30, max_features=sqrt, min_samples_leaf=1, min_samples_split=2, n_estimators=1000; total time=   0.5s\n",
      "[CV] END max_depth=30, max_features=sqrt, min_samples_leaf=1, min_samples_split=2, n_estimators=1000; total time=   0.5s\n",
      "[CV] END max_depth=15, max_features=auto, min_samples_leaf=2, min_samples_split=15, n_estimators=1200; total time=   0.7s\n",
      "[CV] END max_depth=15, max_features=auto, min_samples_leaf=2, min_samples_split=15, n_estimators=1200; total time=   0.6s\n",
      "[CV] END max_depth=15, max_features=auto, min_samples_leaf=2, min_samples_split=15, n_estimators=1200; total time=   0.7s\n"
     ]
    },
    {
     "name": "stdout",
     "output_type": "stream",
     "text": [
      "[CV] END max_depth=15, max_features=auto, min_samples_leaf=2, min_samples_split=15, n_estimators=1200; total time=   0.7s\n",
      "[CV] END max_depth=15, max_features=auto, min_samples_leaf=2, min_samples_split=15, n_estimators=1200; total time=   0.7s\n",
      "[CV] END max_depth=25, max_features=sqrt, min_samples_leaf=5, min_samples_split=5, n_estimators=1100; total time=   0.6s\n",
      "[CV] END max_depth=25, max_features=sqrt, min_samples_leaf=5, min_samples_split=5, n_estimators=1100; total time=   0.6s\n",
      "[CV] END max_depth=25, max_features=sqrt, min_samples_leaf=5, min_samples_split=5, n_estimators=1100; total time=   0.6s\n",
      "[CV] END max_depth=25, max_features=sqrt, min_samples_leaf=5, min_samples_split=5, n_estimators=1100; total time=   0.6s\n",
      "[CV] END max_depth=25, max_features=sqrt, min_samples_leaf=5, min_samples_split=5, n_estimators=1100; total time=   0.6s\n",
      "[CV] END max_depth=30, max_features=sqrt, min_samples_leaf=1, min_samples_split=10, n_estimators=100; total time=   0.0s\n",
      "[CV] END max_depth=30, max_features=sqrt, min_samples_leaf=1, min_samples_split=10, n_estimators=100; total time=   0.0s\n",
      "[CV] END max_depth=30, max_features=sqrt, min_samples_leaf=1, min_samples_split=10, n_estimators=100; total time=   0.0s\n",
      "[CV] END max_depth=30, max_features=sqrt, min_samples_leaf=1, min_samples_split=10, n_estimators=100; total time=   0.0s\n",
      "[CV] END max_depth=30, max_features=sqrt, min_samples_leaf=1, min_samples_split=10, n_estimators=100; total time=   0.0s\n",
      "[CV] END max_depth=20, max_features=sqrt, min_samples_leaf=10, min_samples_split=5, n_estimators=900; total time=   0.5s\n",
      "[CV] END max_depth=20, max_features=sqrt, min_samples_leaf=10, min_samples_split=5, n_estimators=900; total time=   0.5s\n",
      "[CV] END max_depth=20, max_features=sqrt, min_samples_leaf=10, min_samples_split=5, n_estimators=900; total time=   0.5s\n",
      "[CV] END max_depth=20, max_features=sqrt, min_samples_leaf=10, min_samples_split=5, n_estimators=900; total time=   0.5s\n",
      "[CV] END max_depth=20, max_features=sqrt, min_samples_leaf=10, min_samples_split=5, n_estimators=900; total time=   0.5s\n",
      "[CV] END max_depth=5, max_features=auto, min_samples_leaf=2, min_samples_split=10, n_estimators=1200; total time=   0.7s\n",
      "[CV] END max_depth=5, max_features=auto, min_samples_leaf=2, min_samples_split=10, n_estimators=1200; total time=   0.7s\n",
      "[CV] END max_depth=5, max_features=auto, min_samples_leaf=2, min_samples_split=10, n_estimators=1200; total time=   0.7s\n",
      "[CV] END max_depth=5, max_features=auto, min_samples_leaf=2, min_samples_split=10, n_estimators=1200; total time=   0.7s\n",
      "[CV] END max_depth=5, max_features=auto, min_samples_leaf=2, min_samples_split=10, n_estimators=1200; total time=   0.7s\n",
      "[CV] END max_depth=5, max_features=sqrt, min_samples_leaf=1, min_samples_split=15, n_estimators=900; total time=   0.5s\n",
      "[CV] END max_depth=5, max_features=sqrt, min_samples_leaf=1, min_samples_split=15, n_estimators=900; total time=   0.5s\n",
      "[CV] END max_depth=5, max_features=sqrt, min_samples_leaf=1, min_samples_split=15, n_estimators=900; total time=   0.5s\n",
      "[CV] END max_depth=5, max_features=sqrt, min_samples_leaf=1, min_samples_split=15, n_estimators=900; total time=   0.5s\n",
      "[CV] END max_depth=5, max_features=sqrt, min_samples_leaf=1, min_samples_split=15, n_estimators=900; total time=   0.5s\n",
      "[CV] END max_depth=5, max_features=auto, min_samples_leaf=2, min_samples_split=100, n_estimators=700; total time=   0.3s\n",
      "[CV] END max_depth=5, max_features=auto, min_samples_leaf=2, min_samples_split=100, n_estimators=700; total time=   0.3s\n",
      "[CV] END max_depth=5, max_features=auto, min_samples_leaf=2, min_samples_split=100, n_estimators=700; total time=   0.4s\n",
      "[CV] END max_depth=5, max_features=auto, min_samples_leaf=2, min_samples_split=100, n_estimators=700; total time=   0.3s\n",
      "[CV] END max_depth=5, max_features=auto, min_samples_leaf=2, min_samples_split=100, n_estimators=700; total time=   0.4s\n"
     ]
    },
    {
     "data": {
      "text/plain": [
       "RandomizedSearchCV(cv=5, estimator=RandomForestClassifier(), n_iter=20,\n",
       "                   n_jobs=1,\n",
       "                   param_distributions={'max_depth': [5, 10, 15, 20, 25, 30],\n",
       "                                        'max_features': ['auto', 'sqrt'],\n",
       "                                        'min_samples_leaf': [1, 2, 5, 10],\n",
       "                                        'min_samples_split': [2, 5, 10, 15,\n",
       "                                                              100],\n",
       "                                        'n_estimators': [100, 200, 300, 400,\n",
       "                                                         500, 600, 700, 800,\n",
       "                                                         900, 1000, 1100,\n",
       "                                                         1200]},\n",
       "                   scoring='accuracy', verbose=2)"
      ]
     },
     "execution_count": 23,
     "metadata": {},
     "output_type": "execute_result"
    }
   ],
   "source": [
    "rf_random.fit(X_train, y_train)"
   ]
  },
  {
   "cell_type": "code",
   "execution_count": 24,
   "id": "b9cfcf6e",
   "metadata": {},
   "outputs": [],
   "source": [
    "rf_y_train_pred = rf_random.predict(X_train)"
   ]
  },
  {
   "cell_type": "code",
   "execution_count": 25,
   "id": "915fec2f",
   "metadata": {},
   "outputs": [],
   "source": [
    "rf_y_test_pred = rf_random.predict(X_test)"
   ]
  },
  {
   "cell_type": "code",
   "execution_count": 26,
   "id": "37854725",
   "metadata": {},
   "outputs": [
    {
     "name": "stdout",
     "output_type": "stream",
     "text": [
      "Confusion Matrix (Training Data): \n",
      " [[40  0]\n",
      " [ 0 40]]\n",
      "Confusion Matrix (Test Data): \n",
      " [[10  0]\n",
      " [ 0 10]]\n"
     ]
    }
   ],
   "source": [
    "rf_train_confusion_matrix = confusion_matrix(y_train, rf_y_train_pred)\n",
    "rf_test_confusion_matrix = confusion_matrix(y_test, rf_y_test_pred)\n",
    "\n",
    "print(\"Confusion Matrix (Training Data): \\n\", rf_train_confusion_matrix)\n",
    "\n",
    "print(\"Confusion Matrix (Test Data): \\n\", rf_test_confusion_matrix)"
   ]
  },
  {
   "cell_type": "code",
   "execution_count": 27,
   "id": "34092aea",
   "metadata": {},
   "outputs": [
    {
     "data": {
      "text/plain": [
       "{'cv': 5,\n",
       " 'error_score': nan,\n",
       " 'estimator__bootstrap': True,\n",
       " 'estimator__ccp_alpha': 0.0,\n",
       " 'estimator__class_weight': None,\n",
       " 'estimator__criterion': 'gini',\n",
       " 'estimator__max_depth': None,\n",
       " 'estimator__max_features': 'auto',\n",
       " 'estimator__max_leaf_nodes': None,\n",
       " 'estimator__max_samples': None,\n",
       " 'estimator__min_impurity_decrease': 0.0,\n",
       " 'estimator__min_samples_leaf': 1,\n",
       " 'estimator__min_samples_split': 2,\n",
       " 'estimator__min_weight_fraction_leaf': 0.0,\n",
       " 'estimator__n_estimators': 100,\n",
       " 'estimator__n_jobs': None,\n",
       " 'estimator__oob_score': False,\n",
       " 'estimator__random_state': None,\n",
       " 'estimator__verbose': 0,\n",
       " 'estimator__warm_start': False,\n",
       " 'estimator': RandomForestClassifier(),\n",
       " 'n_iter': 20,\n",
       " 'n_jobs': 1,\n",
       " 'param_distributions': {'n_estimators': [100,\n",
       "   200,\n",
       "   300,\n",
       "   400,\n",
       "   500,\n",
       "   600,\n",
       "   700,\n",
       "   800,\n",
       "   900,\n",
       "   1000,\n",
       "   1100,\n",
       "   1200],\n",
       "  'max_features': ['auto', 'sqrt'],\n",
       "  'min_samples_split': [2, 5, 10, 15, 100],\n",
       "  'min_samples_leaf': [1, 2, 5, 10],\n",
       "  'max_depth': [5, 10, 15, 20, 25, 30]},\n",
       " 'pre_dispatch': '2*n_jobs',\n",
       " 'random_state': None,\n",
       " 'refit': True,\n",
       " 'return_train_score': False,\n",
       " 'scoring': 'accuracy',\n",
       " 'verbose': 2}"
      ]
     },
     "execution_count": 27,
     "metadata": {},
     "output_type": "execute_result"
    }
   ],
   "source": [
    "rf_random.get_params()"
   ]
  },
  {
   "cell_type": "markdown",
   "id": "d174478b",
   "metadata": {},
   "source": [
    "# AdaBoost Classifier\n",
    "\n",
    "(d) Boosting. You can use cross-validation to choose hyper-parameters. Please select the range of\n",
    "hyper-parameters by your own. Please report the confusion matrix on both the training data\n",
    "and test data. "
   ]
  },
  {
   "cell_type": "code",
   "execution_count": 28,
   "id": "3b092868",
   "metadata": {},
   "outputs": [],
   "source": [
    "from sklearn.ensemble import AdaBoostClassifier"
   ]
  },
  {
   "cell_type": "code",
   "execution_count": 29,
   "id": "790f44f7",
   "metadata": {},
   "outputs": [],
   "source": [
    "ada_clf = AdaBoostClassifier()"
   ]
  },
  {
   "cell_type": "code",
   "execution_count": 30,
   "id": "1daf031a",
   "metadata": {},
   "outputs": [],
   "source": [
    "# Adaboost Hyperparameter Tuning\n",
    "n_estimators_ada = [int(x) for x in np.linspace(start = 100, stop = 1200, num = 12)]\n",
    "learning_rate_ada = [x for x in 10.**np.arange(-5, 1)]"
   ]
  },
  {
   "cell_type": "code",
   "execution_count": 31,
   "id": "8ac9ac03",
   "metadata": {},
   "outputs": [
    {
     "name": "stdout",
     "output_type": "stream",
     "text": [
      "{'n_estimators': [100, 200, 300, 400, 500, 600, 700, 800, 900, 1000, 1100, 1200], 'learning_rate': [1e-05, 0.0001, 0.001, 0.01, 0.1, 1.0]}\n"
     ]
    }
   ],
   "source": [
    "param_grid = {\n",
    "    'n_estimators': n_estimators_ada,\n",
    "    'learning_rate': learning_rate_ada,\n",
    "}\n",
    "\n",
    "print(param_grid)"
   ]
  },
  {
   "cell_type": "code",
   "execution_count": 32,
   "id": "cdd41a72",
   "metadata": {},
   "outputs": [],
   "source": [
    "ada_random = RandomizedSearchCV(estimator = ada_clf, param_distributions = param_grid, \n",
    "                                scoring = 'accuracy', n_iter = 20, cv = 5, verbose = 2, n_jobs = 1)"
   ]
  },
  {
   "cell_type": "code",
   "execution_count": 33,
   "id": "f172386c",
   "metadata": {},
   "outputs": [
    {
     "name": "stdout",
     "output_type": "stream",
     "text": [
      "Fitting 5 folds for each of 20 candidates, totalling 100 fits\n",
      "[CV] END ................learning_rate=1.0, n_estimators=900; total time=   0.5s\n",
      "[CV] END ................learning_rate=1.0, n_estimators=900; total time=   0.7s\n",
      "[CV] END ................learning_rate=1.0, n_estimators=900; total time=   0.6s\n",
      "[CV] END ................learning_rate=1.0, n_estimators=900; total time=   0.5s\n",
      "[CV] END ................learning_rate=1.0, n_estimators=900; total time=   0.5s\n",
      "[CV] END ............learning_rate=0.0001, n_estimators=1000; total time=   0.6s\n",
      "[CV] END ............learning_rate=0.0001, n_estimators=1000; total time=   0.6s\n",
      "[CV] END ............learning_rate=0.0001, n_estimators=1000; total time=   0.6s\n",
      "[CV] END ............learning_rate=0.0001, n_estimators=1000; total time=   0.6s\n",
      "[CV] END ............learning_rate=0.0001, n_estimators=1000; total time=   0.6s\n",
      "[CV] END ...............learning_rate=0.1, n_estimators=1000; total time=   0.6s\n",
      "[CV] END ...............learning_rate=0.1, n_estimators=1000; total time=   0.6s\n",
      "[CV] END ...............learning_rate=0.1, n_estimators=1000; total time=   0.6s\n",
      "[CV] END ...............learning_rate=0.1, n_estimators=1000; total time=   0.6s\n",
      "[CV] END ...............learning_rate=0.1, n_estimators=1000; total time=   0.6s\n",
      "[CV] END ................learning_rate=0.1, n_estimators=600; total time=   0.3s\n",
      "[CV] END ................learning_rate=0.1, n_estimators=600; total time=   0.3s\n",
      "[CV] END ................learning_rate=0.1, n_estimators=600; total time=   0.3s\n",
      "[CV] END ................learning_rate=0.1, n_estimators=600; total time=   0.3s\n",
      "[CV] END ................learning_rate=0.1, n_estimators=600; total time=   0.3s\n",
      "[CV] END ..............learning_rate=0.001, n_estimators=700; total time=   0.4s\n",
      "[CV] END ..............learning_rate=0.001, n_estimators=700; total time=   0.4s\n",
      "[CV] END ..............learning_rate=0.001, n_estimators=700; total time=   0.4s\n",
      "[CV] END ..............learning_rate=0.001, n_estimators=700; total time=   0.4s\n",
      "[CV] END ..............learning_rate=0.001, n_estimators=700; total time=   0.4s\n",
      "[CV] END ..............learning_rate=0.001, n_estimators=600; total time=   0.3s\n",
      "[CV] END ..............learning_rate=0.001, n_estimators=600; total time=   0.3s\n",
      "[CV] END ..............learning_rate=0.001, n_estimators=600; total time=   0.3s\n",
      "[CV] END ..............learning_rate=0.001, n_estimators=600; total time=   0.3s\n",
      "[CV] END ..............learning_rate=0.001, n_estimators=600; total time=   0.3s\n",
      "[CV] END ...............learning_rate=1.0, n_estimators=1100; total time=   0.6s\n",
      "[CV] END ...............learning_rate=1.0, n_estimators=1100; total time=   0.7s\n",
      "[CV] END ...............learning_rate=1.0, n_estimators=1100; total time=   0.7s\n",
      "[CV] END ...............learning_rate=1.0, n_estimators=1100; total time=   0.6s\n",
      "[CV] END ...............learning_rate=1.0, n_estimators=1100; total time=   0.7s\n",
      "[CV] END .............learning_rate=0.0001, n_estimators=700; total time=   0.4s\n",
      "[CV] END .............learning_rate=0.0001, n_estimators=700; total time=   0.4s\n",
      "[CV] END .............learning_rate=0.0001, n_estimators=700; total time=   0.4s\n",
      "[CV] END .............learning_rate=0.0001, n_estimators=700; total time=   0.4s\n",
      "[CV] END .............learning_rate=0.0001, n_estimators=700; total time=   0.4s\n",
      "[CV] END ................learning_rate=1.0, n_estimators=300; total time=   0.1s\n",
      "[CV] END ................learning_rate=1.0, n_estimators=300; total time=   0.1s\n",
      "[CV] END ................learning_rate=1.0, n_estimators=300; total time=   0.1s\n",
      "[CV] END ................learning_rate=1.0, n_estimators=300; total time=   0.1s\n",
      "[CV] END ................learning_rate=1.0, n_estimators=300; total time=   0.1s\n",
      "[CV] END .............learning_rate=0.0001, n_estimators=400; total time=   0.2s\n",
      "[CV] END .............learning_rate=0.0001, n_estimators=400; total time=   0.2s\n",
      "[CV] END .............learning_rate=0.0001, n_estimators=400; total time=   0.2s\n",
      "[CV] END .............learning_rate=0.0001, n_estimators=400; total time=   0.2s\n",
      "[CV] END .............learning_rate=0.0001, n_estimators=400; total time=   0.2s\n",
      "[CV] END .............learning_rate=0.0001, n_estimators=300; total time=   0.1s\n",
      "[CV] END .............learning_rate=0.0001, n_estimators=300; total time=   0.1s\n",
      "[CV] END .............learning_rate=0.0001, n_estimators=300; total time=   0.1s\n",
      "[CV] END .............learning_rate=0.0001, n_estimators=300; total time=   0.1s\n",
      "[CV] END .............learning_rate=0.0001, n_estimators=300; total time=   0.1s\n",
      "[CV] END .............learning_rate=0.001, n_estimators=1100; total time=   0.6s\n",
      "[CV] END .............learning_rate=0.001, n_estimators=1100; total time=   0.6s\n",
      "[CV] END .............learning_rate=0.001, n_estimators=1100; total time=   0.6s\n",
      "[CV] END .............learning_rate=0.001, n_estimators=1100; total time=   0.6s\n",
      "[CV] END .............learning_rate=0.001, n_estimators=1100; total time=   0.6s\n",
      "[CV] END ...............learning_rate=0.01, n_estimators=300; total time=   0.1s\n",
      "[CV] END ...............learning_rate=0.01, n_estimators=300; total time=   0.1s\n",
      "[CV] END ...............learning_rate=0.01, n_estimators=300; total time=   0.1s\n",
      "[CV] END ...............learning_rate=0.01, n_estimators=300; total time=   0.1s\n",
      "[CV] END ...............learning_rate=0.01, n_estimators=300; total time=   0.1s\n",
      "[CV] END .............learning_rate=1e-05, n_estimators=1200; total time=   0.7s\n",
      "[CV] END .............learning_rate=1e-05, n_estimators=1200; total time=   0.7s\n",
      "[CV] END .............learning_rate=1e-05, n_estimators=1200; total time=   0.7s\n",
      "[CV] END .............learning_rate=1e-05, n_estimators=1200; total time=   0.7s\n",
      "[CV] END .............learning_rate=1e-05, n_estimators=1200; total time=   0.7s\n",
      "[CV] END ................learning_rate=1.0, n_estimators=600; total time=   0.3s\n",
      "[CV] END ................learning_rate=1.0, n_estimators=600; total time=   0.3s\n",
      "[CV] END ................learning_rate=1.0, n_estimators=600; total time=   0.3s\n",
      "[CV] END ................learning_rate=1.0, n_estimators=600; total time=   0.3s\n",
      "[CV] END ................learning_rate=1.0, n_estimators=600; total time=   0.3s\n",
      "[CV] END ..............learning_rate=0.001, n_estimators=900; total time=   0.5s\n",
      "[CV] END ..............learning_rate=0.001, n_estimators=900; total time=   0.5s\n",
      "[CV] END ..............learning_rate=0.001, n_estimators=900; total time=   0.5s\n",
      "[CV] END ..............learning_rate=0.001, n_estimators=900; total time=   0.5s\n",
      "[CV] END ..............learning_rate=0.001, n_estimators=900; total time=   0.5s\n",
      "[CV] END .............learning_rate=0.0001, n_estimators=500; total time=   0.2s\n",
      "[CV] END .............learning_rate=0.0001, n_estimators=500; total time=   0.2s\n",
      "[CV] END .............learning_rate=0.0001, n_estimators=500; total time=   0.2s\n",
      "[CV] END .............learning_rate=0.0001, n_estimators=500; total time=   0.2s\n",
      "[CV] END .............learning_rate=0.0001, n_estimators=500; total time=   0.2s\n",
      "[CV] END ...............learning_rate=0.1, n_estimators=1200; total time=   0.7s\n",
      "[CV] END ...............learning_rate=0.1, n_estimators=1200; total time=   0.7s\n",
      "[CV] END ...............learning_rate=0.1, n_estimators=1200; total time=   0.7s\n",
      "[CV] END ...............learning_rate=0.1, n_estimators=1200; total time=   0.7s\n",
      "[CV] END ...............learning_rate=0.1, n_estimators=1200; total time=   0.7s\n",
      "[CV] END ................learning_rate=0.1, n_estimators=700; total time=   0.4s\n",
      "[CV] END ................learning_rate=0.1, n_estimators=700; total time=   0.4s\n",
      "[CV] END ................learning_rate=0.1, n_estimators=700; total time=   0.4s\n",
      "[CV] END ................learning_rate=0.1, n_estimators=700; total time=   0.4s\n",
      "[CV] END ................learning_rate=0.1, n_estimators=700; total time=   0.4s\n",
      "[CV] END ...............learning_rate=0.1, n_estimators=1100; total time=   0.6s\n",
      "[CV] END ...............learning_rate=0.1, n_estimators=1100; total time=   0.6s\n",
      "[CV] END ...............learning_rate=0.1, n_estimators=1100; total time=   0.6s\n",
      "[CV] END ...............learning_rate=0.1, n_estimators=1100; total time=   0.6s\n",
      "[CV] END ...............learning_rate=0.1, n_estimators=1100; total time=   0.6s\n"
     ]
    },
    {
     "data": {
      "text/plain": [
       "RandomizedSearchCV(cv=5, estimator=AdaBoostClassifier(), n_iter=20, n_jobs=1,\n",
       "                   param_distributions={'learning_rate': [1e-05, 0.0001, 0.001,\n",
       "                                                          0.01, 0.1, 1.0],\n",
       "                                        'n_estimators': [100, 200, 300, 400,\n",
       "                                                         500, 600, 700, 800,\n",
       "                                                         900, 1000, 1100,\n",
       "                                                         1200]},\n",
       "                   scoring='accuracy', verbose=2)"
      ]
     },
     "execution_count": 33,
     "metadata": {},
     "output_type": "execute_result"
    }
   ],
   "source": [
    "ada_random.fit(X_train, y_train)"
   ]
  },
  {
   "cell_type": "code",
   "execution_count": 34,
   "id": "bfee2d99",
   "metadata": {},
   "outputs": [],
   "source": [
    "ada_y_train_pred = ada_random.predict(X_train)\n",
    "ada_y_test_pred = ada_random.predict(X_test)\n",
    "\n",
    "train_confusion_matrix_ada = confusion_matrix(y_train, ada_y_train_pred)\n",
    "test_confusion_matrix_ada = confusion_matrix(y_test, ada_y_test_pred)"
   ]
  },
  {
   "cell_type": "code",
   "execution_count": 35,
   "id": "6d069e1f",
   "metadata": {},
   "outputs": [
    {
     "name": "stdout",
     "output_type": "stream",
     "text": [
      "Confusion Matrix (Training Data):\n",
      " [[37  3]\n",
      " [ 0 40]]\n"
     ]
    }
   ],
   "source": [
    "print(\"Confusion Matrix (Training Data):\\n\", train_confusion_matrix)"
   ]
  },
  {
   "cell_type": "code",
   "execution_count": 36,
   "id": "b6077460",
   "metadata": {},
   "outputs": [
    {
     "name": "stdout",
     "output_type": "stream",
     "text": [
      "Confusion Matrix (Test Data):\n",
      " [[ 9  1]\n",
      " [ 0 10]]\n"
     ]
    }
   ],
   "source": [
    "print(\"Confusion Matrix (Test Data):\\n\", test_confusion_matrix)"
   ]
  },
  {
   "cell_type": "code",
   "execution_count": 37,
   "id": "46de6942",
   "metadata": {},
   "outputs": [
    {
     "data": {
      "text/plain": [
       "{'cv': 5,\n",
       " 'error_score': nan,\n",
       " 'estimator__algorithm': 'SAMME.R',\n",
       " 'estimator__base_estimator': None,\n",
       " 'estimator__learning_rate': 1.0,\n",
       " 'estimator__n_estimators': 50,\n",
       " 'estimator__random_state': None,\n",
       " 'estimator': AdaBoostClassifier(),\n",
       " 'n_iter': 20,\n",
       " 'n_jobs': 1,\n",
       " 'param_distributions': {'n_estimators': [100,\n",
       "   200,\n",
       "   300,\n",
       "   400,\n",
       "   500,\n",
       "   600,\n",
       "   700,\n",
       "   800,\n",
       "   900,\n",
       "   1000,\n",
       "   1100,\n",
       "   1200],\n",
       "  'learning_rate': [1e-05, 0.0001, 0.001, 0.01, 0.1, 1.0]},\n",
       " 'pre_dispatch': '2*n_jobs',\n",
       " 'random_state': None,\n",
       " 'refit': True,\n",
       " 'return_train_score': False,\n",
       " 'scoring': 'accuracy',\n",
       " 'verbose': 2}"
      ]
     },
     "execution_count": 37,
     "metadata": {},
     "output_type": "execute_result"
    }
   ],
   "source": [
    "ada_random.get_params()"
   ]
  },
  {
   "cell_type": "markdown",
   "id": "27078923",
   "metadata": {},
   "source": [
    "## Question 2\n",
    "\n",
    "This problem will make use of the Carseats dataset in the ISLR and\n",
    "ISLP packages. In comparison to the lab, where we treated the Sales variable as a binary response\n",
    "with two levels, this problem will be focused on using tree-based methods to predict the Sales\n",
    "variable as a quantitative response, using all other variables in the dataset as predictors. For this\n",
    "problem, you are free to use built-in packages in either R or Python of your choice."
   ]
  },
  {
   "cell_type": "code",
   "execution_count": 38,
   "id": "946f749a",
   "metadata": {},
   "outputs": [],
   "source": [
    "df = pd.read_csv('C:/Users/arjun/Downloads/Carseats.csv')"
   ]
  },
  {
   "cell_type": "code",
   "execution_count": 39,
   "id": "c438c338",
   "metadata": {},
   "outputs": [
    {
     "data": {
      "text/html": [
       "<div>\n",
       "<style scoped>\n",
       "    .dataframe tbody tr th:only-of-type {\n",
       "        vertical-align: middle;\n",
       "    }\n",
       "\n",
       "    .dataframe tbody tr th {\n",
       "        vertical-align: top;\n",
       "    }\n",
       "\n",
       "    .dataframe thead th {\n",
       "        text-align: right;\n",
       "    }\n",
       "</style>\n",
       "<table border=\"1\" class=\"dataframe\">\n",
       "  <thead>\n",
       "    <tr style=\"text-align: right;\">\n",
       "      <th></th>\n",
       "      <th>Unnamed: 0</th>\n",
       "      <th>Sales</th>\n",
       "      <th>CompPrice</th>\n",
       "      <th>Income</th>\n",
       "      <th>Advertising</th>\n",
       "      <th>Population</th>\n",
       "      <th>Price</th>\n",
       "      <th>ShelveLoc</th>\n",
       "      <th>Age</th>\n",
       "      <th>Education</th>\n",
       "      <th>Urban</th>\n",
       "      <th>US</th>\n",
       "    </tr>\n",
       "  </thead>\n",
       "  <tbody>\n",
       "    <tr>\n",
       "      <th>0</th>\n",
       "      <td>1</td>\n",
       "      <td>9.50</td>\n",
       "      <td>138</td>\n",
       "      <td>73</td>\n",
       "      <td>11</td>\n",
       "      <td>276</td>\n",
       "      <td>120</td>\n",
       "      <td>Bad</td>\n",
       "      <td>42</td>\n",
       "      <td>17</td>\n",
       "      <td>Yes</td>\n",
       "      <td>Yes</td>\n",
       "    </tr>\n",
       "    <tr>\n",
       "      <th>1</th>\n",
       "      <td>2</td>\n",
       "      <td>11.22</td>\n",
       "      <td>111</td>\n",
       "      <td>48</td>\n",
       "      <td>16</td>\n",
       "      <td>260</td>\n",
       "      <td>83</td>\n",
       "      <td>Good</td>\n",
       "      <td>65</td>\n",
       "      <td>10</td>\n",
       "      <td>Yes</td>\n",
       "      <td>Yes</td>\n",
       "    </tr>\n",
       "    <tr>\n",
       "      <th>2</th>\n",
       "      <td>3</td>\n",
       "      <td>10.06</td>\n",
       "      <td>113</td>\n",
       "      <td>35</td>\n",
       "      <td>10</td>\n",
       "      <td>269</td>\n",
       "      <td>80</td>\n",
       "      <td>Medium</td>\n",
       "      <td>59</td>\n",
       "      <td>12</td>\n",
       "      <td>Yes</td>\n",
       "      <td>Yes</td>\n",
       "    </tr>\n",
       "    <tr>\n",
       "      <th>3</th>\n",
       "      <td>4</td>\n",
       "      <td>7.40</td>\n",
       "      <td>117</td>\n",
       "      <td>100</td>\n",
       "      <td>4</td>\n",
       "      <td>466</td>\n",
       "      <td>97</td>\n",
       "      <td>Medium</td>\n",
       "      <td>55</td>\n",
       "      <td>14</td>\n",
       "      <td>Yes</td>\n",
       "      <td>Yes</td>\n",
       "    </tr>\n",
       "    <tr>\n",
       "      <th>4</th>\n",
       "      <td>5</td>\n",
       "      <td>4.15</td>\n",
       "      <td>141</td>\n",
       "      <td>64</td>\n",
       "      <td>3</td>\n",
       "      <td>340</td>\n",
       "      <td>128</td>\n",
       "      <td>Bad</td>\n",
       "      <td>38</td>\n",
       "      <td>13</td>\n",
       "      <td>Yes</td>\n",
       "      <td>No</td>\n",
       "    </tr>\n",
       "  </tbody>\n",
       "</table>\n",
       "</div>"
      ],
      "text/plain": [
       "   Unnamed: 0  Sales  CompPrice  Income  Advertising  Population  Price  \\\n",
       "0           1   9.50        138      73           11         276    120   \n",
       "1           2  11.22        111      48           16         260     83   \n",
       "2           3  10.06        113      35           10         269     80   \n",
       "3           4   7.40        117     100            4         466     97   \n",
       "4           5   4.15        141      64            3         340    128   \n",
       "\n",
       "  ShelveLoc  Age  Education Urban   US  \n",
       "0       Bad   42         17   Yes  Yes  \n",
       "1      Good   65         10   Yes  Yes  \n",
       "2    Medium   59         12   Yes  Yes  \n",
       "3    Medium   55         14   Yes  Yes  \n",
       "4       Bad   38         13   Yes   No  "
      ]
     },
     "execution_count": 39,
     "metadata": {},
     "output_type": "execute_result"
    }
   ],
   "source": [
    "df.head()"
   ]
  },
  {
   "cell_type": "code",
   "execution_count": 40,
   "id": "0e46955d",
   "metadata": {},
   "outputs": [],
   "source": [
    "df.drop('Unnamed: 0', axis = 1, inplace = True)"
   ]
  },
  {
   "cell_type": "code",
   "execution_count": 41,
   "id": "f8ee2df1",
   "metadata": {},
   "outputs": [
    {
     "data": {
      "text/html": [
       "<div>\n",
       "<style scoped>\n",
       "    .dataframe tbody tr th:only-of-type {\n",
       "        vertical-align: middle;\n",
       "    }\n",
       "\n",
       "    .dataframe tbody tr th {\n",
       "        vertical-align: top;\n",
       "    }\n",
       "\n",
       "    .dataframe thead th {\n",
       "        text-align: right;\n",
       "    }\n",
       "</style>\n",
       "<table border=\"1\" class=\"dataframe\">\n",
       "  <thead>\n",
       "    <tr style=\"text-align: right;\">\n",
       "      <th></th>\n",
       "      <th>Sales</th>\n",
       "      <th>CompPrice</th>\n",
       "      <th>Income</th>\n",
       "      <th>Advertising</th>\n",
       "      <th>Population</th>\n",
       "      <th>Price</th>\n",
       "      <th>Age</th>\n",
       "      <th>Education</th>\n",
       "    </tr>\n",
       "  </thead>\n",
       "  <tbody>\n",
       "    <tr>\n",
       "      <th>count</th>\n",
       "      <td>400.000000</td>\n",
       "      <td>400.000000</td>\n",
       "      <td>400.000000</td>\n",
       "      <td>400.000000</td>\n",
       "      <td>400.000000</td>\n",
       "      <td>400.000000</td>\n",
       "      <td>400.000000</td>\n",
       "      <td>400.000000</td>\n",
       "    </tr>\n",
       "    <tr>\n",
       "      <th>mean</th>\n",
       "      <td>7.496325</td>\n",
       "      <td>124.975000</td>\n",
       "      <td>68.657500</td>\n",
       "      <td>6.635000</td>\n",
       "      <td>264.840000</td>\n",
       "      <td>115.795000</td>\n",
       "      <td>53.322500</td>\n",
       "      <td>13.900000</td>\n",
       "    </tr>\n",
       "    <tr>\n",
       "      <th>std</th>\n",
       "      <td>2.824115</td>\n",
       "      <td>15.334512</td>\n",
       "      <td>27.986037</td>\n",
       "      <td>6.650364</td>\n",
       "      <td>147.376436</td>\n",
       "      <td>23.676664</td>\n",
       "      <td>16.200297</td>\n",
       "      <td>2.620528</td>\n",
       "    </tr>\n",
       "    <tr>\n",
       "      <th>min</th>\n",
       "      <td>0.000000</td>\n",
       "      <td>77.000000</td>\n",
       "      <td>21.000000</td>\n",
       "      <td>0.000000</td>\n",
       "      <td>10.000000</td>\n",
       "      <td>24.000000</td>\n",
       "      <td>25.000000</td>\n",
       "      <td>10.000000</td>\n",
       "    </tr>\n",
       "    <tr>\n",
       "      <th>25%</th>\n",
       "      <td>5.390000</td>\n",
       "      <td>115.000000</td>\n",
       "      <td>42.750000</td>\n",
       "      <td>0.000000</td>\n",
       "      <td>139.000000</td>\n",
       "      <td>100.000000</td>\n",
       "      <td>39.750000</td>\n",
       "      <td>12.000000</td>\n",
       "    </tr>\n",
       "    <tr>\n",
       "      <th>50%</th>\n",
       "      <td>7.490000</td>\n",
       "      <td>125.000000</td>\n",
       "      <td>69.000000</td>\n",
       "      <td>5.000000</td>\n",
       "      <td>272.000000</td>\n",
       "      <td>117.000000</td>\n",
       "      <td>54.500000</td>\n",
       "      <td>14.000000</td>\n",
       "    </tr>\n",
       "    <tr>\n",
       "      <th>75%</th>\n",
       "      <td>9.320000</td>\n",
       "      <td>135.000000</td>\n",
       "      <td>91.000000</td>\n",
       "      <td>12.000000</td>\n",
       "      <td>398.500000</td>\n",
       "      <td>131.000000</td>\n",
       "      <td>66.000000</td>\n",
       "      <td>16.000000</td>\n",
       "    </tr>\n",
       "    <tr>\n",
       "      <th>max</th>\n",
       "      <td>16.270000</td>\n",
       "      <td>175.000000</td>\n",
       "      <td>120.000000</td>\n",
       "      <td>29.000000</td>\n",
       "      <td>509.000000</td>\n",
       "      <td>191.000000</td>\n",
       "      <td>80.000000</td>\n",
       "      <td>18.000000</td>\n",
       "    </tr>\n",
       "  </tbody>\n",
       "</table>\n",
       "</div>"
      ],
      "text/plain": [
       "            Sales   CompPrice      Income  Advertising  Population  \\\n",
       "count  400.000000  400.000000  400.000000   400.000000  400.000000   \n",
       "mean     7.496325  124.975000   68.657500     6.635000  264.840000   \n",
       "std      2.824115   15.334512   27.986037     6.650364  147.376436   \n",
       "min      0.000000   77.000000   21.000000     0.000000   10.000000   \n",
       "25%      5.390000  115.000000   42.750000     0.000000  139.000000   \n",
       "50%      7.490000  125.000000   69.000000     5.000000  272.000000   \n",
       "75%      9.320000  135.000000   91.000000    12.000000  398.500000   \n",
       "max     16.270000  175.000000  120.000000    29.000000  509.000000   \n",
       "\n",
       "            Price         Age   Education  \n",
       "count  400.000000  400.000000  400.000000  \n",
       "mean   115.795000   53.322500   13.900000  \n",
       "std     23.676664   16.200297    2.620528  \n",
       "min     24.000000   25.000000   10.000000  \n",
       "25%    100.000000   39.750000   12.000000  \n",
       "50%    117.000000   54.500000   14.000000  \n",
       "75%    131.000000   66.000000   16.000000  \n",
       "max    191.000000   80.000000   18.000000  "
      ]
     },
     "execution_count": 41,
     "metadata": {},
     "output_type": "execute_result"
    }
   ],
   "source": [
    "df.describe()"
   ]
  },
  {
   "cell_type": "code",
   "execution_count": 42,
   "id": "8efafed2",
   "metadata": {},
   "outputs": [
    {
     "name": "stdout",
     "output_type": "stream",
     "text": [
      "<class 'pandas.core.frame.DataFrame'>\n",
      "RangeIndex: 400 entries, 0 to 399\n",
      "Data columns (total 11 columns):\n",
      " #   Column       Non-Null Count  Dtype  \n",
      "---  ------       --------------  -----  \n",
      " 0   Sales        400 non-null    float64\n",
      " 1   CompPrice    400 non-null    int64  \n",
      " 2   Income       400 non-null    int64  \n",
      " 3   Advertising  400 non-null    int64  \n",
      " 4   Population   400 non-null    int64  \n",
      " 5   Price        400 non-null    int64  \n",
      " 6   ShelveLoc    400 non-null    object \n",
      " 7   Age          400 non-null    int64  \n",
      " 8   Education    400 non-null    int64  \n",
      " 9   Urban        400 non-null    object \n",
      " 10  US           400 non-null    object \n",
      "dtypes: float64(1), int64(7), object(3)\n",
      "memory usage: 34.5+ KB\n"
     ]
    }
   ],
   "source": [
    "df.info()"
   ]
  },
  {
   "cell_type": "code",
   "execution_count": 43,
   "id": "018841b1",
   "metadata": {},
   "outputs": [
    {
     "data": {
      "text/plain": [
       "array(['Bad', 'Good', 'Medium'], dtype=object)"
      ]
     },
     "execution_count": 43,
     "metadata": {},
     "output_type": "execute_result"
    }
   ],
   "source": [
    "df['ShelveLoc'].unique()"
   ]
  },
  {
   "cell_type": "code",
   "execution_count": 44,
   "id": "ec3e8191",
   "metadata": {},
   "outputs": [
    {
     "data": {
      "text/plain": [
       "array(['Yes', 'No'], dtype=object)"
      ]
     },
     "execution_count": 44,
     "metadata": {},
     "output_type": "execute_result"
    }
   ],
   "source": [
    "df['Urban'].unique()"
   ]
  },
  {
   "cell_type": "code",
   "execution_count": 45,
   "id": "fdfcd809",
   "metadata": {},
   "outputs": [
    {
     "data": {
      "text/plain": [
       "array(['Yes', 'No'], dtype=object)"
      ]
     },
     "execution_count": 45,
     "metadata": {},
     "output_type": "execute_result"
    }
   ],
   "source": [
    "df['US'].unique()"
   ]
  },
  {
   "cell_type": "code",
   "execution_count": 46,
   "id": "5b359644",
   "metadata": {},
   "outputs": [],
   "source": [
    "import numpy as np"
   ]
  },
  {
   "cell_type": "code",
   "execution_count": 47,
   "id": "884efe66",
   "metadata": {},
   "outputs": [],
   "source": [
    "df['ShelveLoc'] = np.where(df['ShelveLoc'] == 'Bad', 1, df['ShelveLoc'])\n",
    "df['ShelveLoc'] = np.where(df['ShelveLoc'] == 'Medium', 2, df['ShelveLoc'])\n",
    "df['ShelveLoc'] = np.where(df['ShelveLoc'] == 'Good', 3, df['ShelveLoc'])"
   ]
  },
  {
   "cell_type": "code",
   "execution_count": 48,
   "id": "a17f888a",
   "metadata": {},
   "outputs": [],
   "source": [
    "df['Urban'] = np.where(df['Urban'] == 'Yes', 1, 0)\n",
    "df['US'] = np.where(df['US'] == 'Yes', 1, 0)"
   ]
  },
  {
   "cell_type": "code",
   "execution_count": 49,
   "id": "bf518b6c",
   "metadata": {},
   "outputs": [],
   "source": [
    "df = df.apply(pd.to_numeric)"
   ]
  },
  {
   "cell_type": "code",
   "execution_count": 50,
   "id": "98702036",
   "metadata": {},
   "outputs": [
    {
     "name": "stdout",
     "output_type": "stream",
     "text": [
      "<class 'pandas.core.frame.DataFrame'>\n",
      "RangeIndex: 400 entries, 0 to 399\n",
      "Data columns (total 11 columns):\n",
      " #   Column       Non-Null Count  Dtype  \n",
      "---  ------       --------------  -----  \n",
      " 0   Sales        400 non-null    float64\n",
      " 1   CompPrice    400 non-null    int64  \n",
      " 2   Income       400 non-null    int64  \n",
      " 3   Advertising  400 non-null    int64  \n",
      " 4   Population   400 non-null    int64  \n",
      " 5   Price        400 non-null    int64  \n",
      " 6   ShelveLoc    400 non-null    int64  \n",
      " 7   Age          400 non-null    int64  \n",
      " 8   Education    400 non-null    int64  \n",
      " 9   Urban        400 non-null    int32  \n",
      " 10  US           400 non-null    int32  \n",
      "dtypes: float64(1), int32(2), int64(8)\n",
      "memory usage: 31.4 KB\n"
     ]
    }
   ],
   "source": [
    "df.info()"
   ]
  },
  {
   "cell_type": "code",
   "execution_count": 51,
   "id": "f4e4179f",
   "metadata": {},
   "outputs": [
    {
     "data": {
      "text/plain": [
       "1    258\n",
       "0    142\n",
       "Name: US, dtype: int64"
      ]
     },
     "execution_count": 51,
     "metadata": {},
     "output_type": "execute_result"
    }
   ],
   "source": [
    "df['US'].value_counts()"
   ]
  },
  {
   "cell_type": "code",
   "execution_count": 52,
   "id": "61bcb712",
   "metadata": {},
   "outputs": [
    {
     "data": {
      "text/plain": [
       "2    219\n",
       "1     96\n",
       "3     85\n",
       "Name: ShelveLoc, dtype: int64"
      ]
     },
     "execution_count": 52,
     "metadata": {},
     "output_type": "execute_result"
    }
   ],
   "source": [
    "df['ShelveLoc'].value_counts()"
   ]
  },
  {
   "cell_type": "code",
   "execution_count": 53,
   "id": "a006aa10",
   "metadata": {},
   "outputs": [
    {
     "data": {
      "text/plain": [
       "1    282\n",
       "0    118\n",
       "Name: Urban, dtype: int64"
      ]
     },
     "execution_count": 53,
     "metadata": {},
     "output_type": "execute_result"
    }
   ],
   "source": [
    "df['Urban'].value_counts()"
   ]
  },
  {
   "cell_type": "code",
   "execution_count": 54,
   "id": "b5ecf106",
   "metadata": {},
   "outputs": [],
   "source": [
    "X = df.drop('Sales', axis=1)\n",
    "y = df['Sales']"
   ]
  },
  {
   "cell_type": "markdown",
   "id": "b68ce7d3",
   "metadata": {},
   "source": [
    "## Decision Tree (Full and Pruned Trees)\n",
    "\n",
    "(a) Split the data into 70% training and 30% test observations. Fit a regression tree to predict\n",
    "the Sales variable as a quantitative response, using all other variables in the dataset as\n",
    "predictors, and perform cross-validation to determine the optimal level of complexity. (Note:\n",
    "You will not be setting a max depth argument here since it will be learned during cross-\n",
    "validation). Report the test MSE, as well as number of terminal nodes, for 1) the full tree\n",
    "and 2) pruned tree of optimal CV complexity."
   ]
  },
  {
   "cell_type": "code",
   "execution_count": 55,
   "id": "5fb56719",
   "metadata": {},
   "outputs": [],
   "source": [
    "from sklearn.tree import DecisionTreeRegressor\n",
    "from sklearn.model_selection import GridSearchCV\n",
    "from sklearn.metrics import mean_squared_error\n",
    "from sklearn.model_selection import train_test_split"
   ]
  },
  {
   "cell_type": "code",
   "execution_count": 56,
   "id": "facca083",
   "metadata": {},
   "outputs": [],
   "source": [
    "X_train, X_test, y_train, y_test = train_test_split(X, y, test_size=0.3)"
   ]
  },
  {
   "cell_type": "code",
   "execution_count": 57,
   "id": "a3f1c365",
   "metadata": {},
   "outputs": [
    {
     "data": {
      "text/plain": [
       "DecisionTreeRegressor()"
      ]
     },
     "execution_count": 57,
     "metadata": {},
     "output_type": "execute_result"
    }
   ],
   "source": [
    "# Initialize the full tree\n",
    "full_tree = DecisionTreeRegressor()\n",
    "full_tree.fit(X_train, y_train)"
   ]
  },
  {
   "cell_type": "code",
   "execution_count": 58,
   "id": "8ba7832d",
   "metadata": {},
   "outputs": [
    {
     "name": "stdout",
     "output_type": "stream",
     "text": [
      "Test MSE of Full Tree: 5.138118333333334\n"
     ]
    }
   ],
   "source": [
    "y_pred_full_tree = full_tree.predict(X_test)\n",
    "test_mse_full_tree = mean_squared_error(y_test, y_pred_full_tree)\n",
    "print(\"Test MSE of Full Tree:\", test_mse_full_tree)"
   ]
  },
  {
   "cell_type": "code",
   "execution_count": 59,
   "id": "5e013fb8",
   "metadata": {},
   "outputs": [
    {
     "name": "stdout",
     "output_type": "stream",
     "text": [
      "Number of Terminal Nodes of Full Tree: 275\n"
     ]
    }
   ],
   "source": [
    "# Get the number of terminal nodes for the full tree\n",
    "num_terminal_nodes_full_tree = full_tree.get_n_leaves()\n",
    "print(\"Number of Terminal Nodes of Full Tree:\", num_terminal_nodes_full_tree)"
   ]
  },
  {
   "cell_type": "code",
   "execution_count": 60,
   "id": "027dce19",
   "metadata": {},
   "outputs": [
    {
     "name": "stdout",
     "output_type": "stream",
     "text": [
      "Parameters of the full tree:  {'ccp_alpha': 0.0, 'criterion': 'squared_error', 'max_depth': None, 'max_features': None, 'max_leaf_nodes': None, 'min_impurity_decrease': 0.0, 'min_samples_leaf': 1, 'min_samples_split': 2, 'min_weight_fraction_leaf': 0.0, 'random_state': None, 'splitter': 'best'}\n"
     ]
    }
   ],
   "source": [
    "print(\"Parameters of the full tree: \", full_tree.get_params())"
   ]
  },
  {
   "cell_type": "code",
   "execution_count": 61,
   "id": "f5439851",
   "metadata": {},
   "outputs": [],
   "source": [
    "param_grid = {'max_depth': [int(x) for x in np.linspace(1, 16)]}\n",
    "\n",
    "# Create the decision tree regressor\n",
    "tree = DecisionTreeRegressor()"
   ]
  },
  {
   "cell_type": "code",
   "execution_count": 62,
   "id": "f8fe5507",
   "metadata": {},
   "outputs": [
    {
     "data": {
      "text/plain": [
       "GridSearchCV(cv=5, estimator=DecisionTreeRegressor(),\n",
       "             param_grid={'max_depth': [1, 1, 1, 1, 2, 2, 2, 3, 3, 3, 4, 4, 4, 4,\n",
       "                                       5, 5, 5, 6, 6, 6, 7, 7, 7, 8, 8, 8, 8, 9,\n",
       "                                       9, 9, ...]},\n",
       "             scoring='neg_mean_squared_error')"
      ]
     },
     "execution_count": 62,
     "metadata": {},
     "output_type": "execute_result"
    }
   ],
   "source": [
    "pruned_tree = GridSearchCV(estimator = tree, param_grid = param_grid, cv=5, scoring='neg_mean_squared_error')\n",
    "pruned_tree.fit(X_train, y_train)"
   ]
  },
  {
   "cell_type": "code",
   "execution_count": 63,
   "id": "a1e67049",
   "metadata": {},
   "outputs": [],
   "source": [
    "best_depth = pruned_tree.best_params_['max_depth']\n",
    "best_estimator = pruned_tree.best_estimator_"
   ]
  },
  {
   "cell_type": "code",
   "execution_count": 64,
   "id": "c54dde66",
   "metadata": {},
   "outputs": [
    {
     "name": "stdout",
     "output_type": "stream",
     "text": [
      "Best Tree Depth: 4\n",
      "Best Estimator: DecisionTreeRegressor(max_depth=4)\n"
     ]
    }
   ],
   "source": [
    "print('Best Tree Depth:', best_depth)\n",
    "print('Best Estimator:', best_estimator)"
   ]
  },
  {
   "cell_type": "code",
   "execution_count": 65,
   "id": "354b5f1c",
   "metadata": {},
   "outputs": [
    {
     "name": "stdout",
     "output_type": "stream",
     "text": [
      "Test MSE of Pruned Tree: 5.694151778300362\n"
     ]
    }
   ],
   "source": [
    "y_pred_pruned_tree = pruned_tree.predict(X_test)\n",
    "test_mse_pruned_tree = mean_squared_error(y_test, y_pred_pruned_tree)\n",
    "print(\"Test MSE of Pruned Tree:\", test_mse_pruned_tree)"
   ]
  },
  {
   "cell_type": "code",
   "execution_count": 66,
   "id": "612935b2",
   "metadata": {},
   "outputs": [
    {
     "name": "stdout",
     "output_type": "stream",
     "text": [
      "Number of Terminal Nodes of Pruned Tree: 16\n"
     ]
    }
   ],
   "source": [
    "num_terminal_nodes_pruned_tree = best_estimator.get_n_leaves()\n",
    "print(\"Number of Terminal Nodes of Pruned Tree:\", num_terminal_nodes_pruned_tree)"
   ]
  },
  {
   "cell_type": "code",
   "execution_count": 67,
   "id": "0b3ec6c7",
   "metadata": {},
   "outputs": [
    {
     "name": "stdout",
     "output_type": "stream",
     "text": [
      "Parameters of the pruned tree:  {'ccp_alpha': 0.0, 'criterion': 'squared_error', 'max_depth': 4, 'max_features': None, 'max_leaf_nodes': None, 'min_impurity_decrease': 0.0, 'min_samples_leaf': 1, 'min_samples_split': 2, 'min_weight_fraction_leaf': 0.0, 'random_state': None, 'splitter': 'best'}\n"
     ]
    }
   ],
   "source": [
    "print(\"Parameters of the pruned tree: \", best_estimator.get_params())"
   ]
  },
  {
   "cell_type": "markdown",
   "id": "467b7a19",
   "metadata": {},
   "source": [
    "## Bagging\n",
    "\n",
    "(b) Use bagging to predict the Sales variable as a quantitative response, using all other variables\n",
    "in the dataset as predictors. Report the resulting test MSE as well as the relative importance\n",
    "of each predictor. "
   ]
  },
  {
   "cell_type": "code",
   "execution_count": 68,
   "id": "b0888a47",
   "metadata": {},
   "outputs": [],
   "source": [
    "from sklearn.ensemble import RandomForestRegressor\n",
    "from sklearn.model_selection import RandomizedSearchCV"
   ]
  },
  {
   "cell_type": "code",
   "execution_count": 69,
   "id": "2d854620",
   "metadata": {},
   "outputs": [],
   "source": [
    "### Hyperparameter tuning\n",
    "n_estimators = [int(x) for x in np.linspace(start = 100, stop = 1200, num = 12)]\n",
    "max_features = ['auto', 'sqrt']\n",
    "max_depth = [int(x) for x in np.linspace(start = 5, stop = 30, num = 6)]\n",
    "min_samples_split = [2, 5, 10, 15, 100]\n",
    "min_samples_leaf = [1, 2, 5, 10]"
   ]
  },
  {
   "cell_type": "code",
   "execution_count": 70,
   "id": "10aa611e",
   "metadata": {},
   "outputs": [
    {
     "name": "stdout",
     "output_type": "stream",
     "text": [
      "{'n_estimators': [100, 200, 300, 400, 500, 600, 700, 800, 900, 1000, 1100, 1200], 'max_features': ['auto', 'sqrt'], 'min_samples_split': [2, 5, 10, 15, 100], 'min_samples_leaf': [1, 2, 5, 10], 'max_depth': [5, 10, 15, 20, 25, 30]}\n"
     ]
    }
   ],
   "source": [
    "# Creating a random grid \n",
    "\n",
    "param_grid = {\n",
    "    'n_estimators': n_estimators,\n",
    "    'max_features': max_features,\n",
    "    'min_samples_split': min_samples_split,\n",
    "    'min_samples_leaf': min_samples_leaf,\n",
    "    'max_depth': max_depth\n",
    "}\n",
    "\n",
    "print(param_grid)"
   ]
  },
  {
   "cell_type": "code",
   "execution_count": 71,
   "id": "9dd9d08a",
   "metadata": {},
   "outputs": [],
   "source": [
    "rf = RandomForestRegressor()"
   ]
  },
  {
   "cell_type": "code",
   "execution_count": 72,
   "id": "d5a6ef0a",
   "metadata": {},
   "outputs": [],
   "source": [
    "rf_grid = RandomizedSearchCV(estimator = rf, param_distributions = param_grid, \n",
    "                             scoring = 'neg_mean_squared_error', n_iter = 20, cv = 5, verbose = 2, n_jobs = 1)"
   ]
  },
  {
   "cell_type": "code",
   "execution_count": 73,
   "id": "d4430d95",
   "metadata": {},
   "outputs": [
    {
     "name": "stdout",
     "output_type": "stream",
     "text": [
      "Fitting 5 folds for each of 20 candidates, totalling 100 fits\n",
      "[CV] END max_depth=15, max_features=auto, min_samples_leaf=5, min_samples_split=2, n_estimators=1100; total time=   0.7s\n",
      "[CV] END max_depth=15, max_features=auto, min_samples_leaf=5, min_samples_split=2, n_estimators=1100; total time=   0.7s\n",
      "[CV] END max_depth=15, max_features=auto, min_samples_leaf=5, min_samples_split=2, n_estimators=1100; total time=   0.7s\n",
      "[CV] END max_depth=15, max_features=auto, min_samples_leaf=5, min_samples_split=2, n_estimators=1100; total time=   0.8s\n",
      "[CV] END max_depth=15, max_features=auto, min_samples_leaf=5, min_samples_split=2, n_estimators=1100; total time=   0.7s\n",
      "[CV] END max_depth=25, max_features=auto, min_samples_leaf=2, min_samples_split=10, n_estimators=900; total time=   0.6s\n",
      "[CV] END max_depth=25, max_features=auto, min_samples_leaf=2, min_samples_split=10, n_estimators=900; total time=   0.6s\n",
      "[CV] END max_depth=25, max_features=auto, min_samples_leaf=2, min_samples_split=10, n_estimators=900; total time=   0.6s\n",
      "[CV] END max_depth=25, max_features=auto, min_samples_leaf=2, min_samples_split=10, n_estimators=900; total time=   0.6s\n",
      "[CV] END max_depth=25, max_features=auto, min_samples_leaf=2, min_samples_split=10, n_estimators=900; total time=   0.6s\n",
      "[CV] END max_depth=30, max_features=auto, min_samples_leaf=1, min_samples_split=5, n_estimators=1000; total time=   0.7s\n",
      "[CV] END max_depth=30, max_features=auto, min_samples_leaf=1, min_samples_split=5, n_estimators=1000; total time=   0.7s\n",
      "[CV] END max_depth=30, max_features=auto, min_samples_leaf=1, min_samples_split=5, n_estimators=1000; total time=   0.7s\n",
      "[CV] END max_depth=30, max_features=auto, min_samples_leaf=1, min_samples_split=5, n_estimators=1000; total time=   0.7s\n",
      "[CV] END max_depth=30, max_features=auto, min_samples_leaf=1, min_samples_split=5, n_estimators=1000; total time=   0.7s\n",
      "[CV] END max_depth=10, max_features=auto, min_samples_leaf=5, min_samples_split=15, n_estimators=100; total time=   0.0s\n",
      "[CV] END max_depth=10, max_features=auto, min_samples_leaf=5, min_samples_split=15, n_estimators=100; total time=   0.0s\n",
      "[CV] END max_depth=10, max_features=auto, min_samples_leaf=5, min_samples_split=15, n_estimators=100; total time=   0.0s\n",
      "[CV] END max_depth=10, max_features=auto, min_samples_leaf=5, min_samples_split=15, n_estimators=100; total time=   0.0s\n",
      "[CV] END max_depth=10, max_features=auto, min_samples_leaf=5, min_samples_split=15, n_estimators=100; total time=   0.0s\n",
      "[CV] END max_depth=25, max_features=auto, min_samples_leaf=1, min_samples_split=15, n_estimators=1000; total time=   0.7s\n",
      "[CV] END max_depth=25, max_features=auto, min_samples_leaf=1, min_samples_split=15, n_estimators=1000; total time=   0.6s\n",
      "[CV] END max_depth=25, max_features=auto, min_samples_leaf=1, min_samples_split=15, n_estimators=1000; total time=   0.6s\n",
      "[CV] END max_depth=25, max_features=auto, min_samples_leaf=1, min_samples_split=15, n_estimators=1000; total time=   0.6s\n",
      "[CV] END max_depth=25, max_features=auto, min_samples_leaf=1, min_samples_split=15, n_estimators=1000; total time=   0.7s\n",
      "[CV] END max_depth=10, max_features=auto, min_samples_leaf=5, min_samples_split=2, n_estimators=200; total time=   0.0s\n",
      "[CV] END max_depth=10, max_features=auto, min_samples_leaf=5, min_samples_split=2, n_estimators=200; total time=   0.1s\n",
      "[CV] END max_depth=10, max_features=auto, min_samples_leaf=5, min_samples_split=2, n_estimators=200; total time=   0.0s\n",
      "[CV] END max_depth=10, max_features=auto, min_samples_leaf=5, min_samples_split=2, n_estimators=200; total time=   0.1s\n",
      "[CV] END max_depth=10, max_features=auto, min_samples_leaf=5, min_samples_split=2, n_estimators=200; total time=   0.0s\n",
      "[CV] END max_depth=10, max_features=sqrt, min_samples_leaf=2, min_samples_split=10, n_estimators=200; total time=   0.0s\n",
      "[CV] END max_depth=10, max_features=sqrt, min_samples_leaf=2, min_samples_split=10, n_estimators=200; total time=   0.0s\n",
      "[CV] END max_depth=10, max_features=sqrt, min_samples_leaf=2, min_samples_split=10, n_estimators=200; total time=   0.0s\n",
      "[CV] END max_depth=10, max_features=sqrt, min_samples_leaf=2, min_samples_split=10, n_estimators=200; total time=   0.0s\n",
      "[CV] END max_depth=10, max_features=sqrt, min_samples_leaf=2, min_samples_split=10, n_estimators=200; total time=   0.0s\n",
      "[CV] END max_depth=15, max_features=sqrt, min_samples_leaf=5, min_samples_split=2, n_estimators=400; total time=   0.1s\n",
      "[CV] END max_depth=15, max_features=sqrt, min_samples_leaf=5, min_samples_split=2, n_estimators=400; total time=   0.1s\n",
      "[CV] END max_depth=15, max_features=sqrt, min_samples_leaf=5, min_samples_split=2, n_estimators=400; total time=   0.1s\n",
      "[CV] END max_depth=15, max_features=sqrt, min_samples_leaf=5, min_samples_split=2, n_estimators=400; total time=   0.1s\n",
      "[CV] END max_depth=15, max_features=sqrt, min_samples_leaf=5, min_samples_split=2, n_estimators=400; total time=   0.1s\n",
      "[CV] END max_depth=5, max_features=auto, min_samples_leaf=1, min_samples_split=2, n_estimators=1100; total time=   0.7s\n",
      "[CV] END max_depth=5, max_features=auto, min_samples_leaf=1, min_samples_split=2, n_estimators=1100; total time=   0.7s\n",
      "[CV] END max_depth=5, max_features=auto, min_samples_leaf=1, min_samples_split=2, n_estimators=1100; total time=   0.8s\n",
      "[CV] END max_depth=5, max_features=auto, min_samples_leaf=1, min_samples_split=2, n_estimators=1100; total time=   0.7s\n",
      "[CV] END max_depth=5, max_features=auto, min_samples_leaf=1, min_samples_split=2, n_estimators=1100; total time=   0.7s\n",
      "[CV] END max_depth=30, max_features=sqrt, min_samples_leaf=5, min_samples_split=100, n_estimators=1100; total time=   0.5s\n",
      "[CV] END max_depth=30, max_features=sqrt, min_samples_leaf=5, min_samples_split=100, n_estimators=1100; total time=   0.5s\n",
      "[CV] END max_depth=30, max_features=sqrt, min_samples_leaf=5, min_samples_split=100, n_estimators=1100; total time=   0.5s\n",
      "[CV] END max_depth=30, max_features=sqrt, min_samples_leaf=5, min_samples_split=100, n_estimators=1100; total time=   0.5s\n",
      "[CV] END max_depth=30, max_features=sqrt, min_samples_leaf=5, min_samples_split=100, n_estimators=1100; total time=   0.5s\n",
      "[CV] END max_depth=20, max_features=auto, min_samples_leaf=1, min_samples_split=10, n_estimators=600; total time=   0.4s\n",
      "[CV] END max_depth=20, max_features=auto, min_samples_leaf=1, min_samples_split=10, n_estimators=600; total time=   0.4s\n",
      "[CV] END max_depth=20, max_features=auto, min_samples_leaf=1, min_samples_split=10, n_estimators=600; total time=   0.4s\n",
      "[CV] END max_depth=20, max_features=auto, min_samples_leaf=1, min_samples_split=10, n_estimators=600; total time=   0.4s\n",
      "[CV] END max_depth=20, max_features=auto, min_samples_leaf=1, min_samples_split=10, n_estimators=600; total time=   0.4s\n",
      "[CV] END max_depth=25, max_features=sqrt, min_samples_leaf=1, min_samples_split=100, n_estimators=1100; total time=   0.5s\n",
      "[CV] END max_depth=25, max_features=sqrt, min_samples_leaf=1, min_samples_split=100, n_estimators=1100; total time=   0.5s\n",
      "[CV] END max_depth=25, max_features=sqrt, min_samples_leaf=1, min_samples_split=100, n_estimators=1100; total time=   0.5s\n",
      "[CV] END max_depth=25, max_features=sqrt, min_samples_leaf=1, min_samples_split=100, n_estimators=1100; total time=   0.5s\n",
      "[CV] END max_depth=25, max_features=sqrt, min_samples_leaf=1, min_samples_split=100, n_estimators=1100; total time=   0.5s\n",
      "[CV] END max_depth=10, max_features=sqrt, min_samples_leaf=10, min_samples_split=100, n_estimators=400; total time=   0.1s\n",
      "[CV] END max_depth=10, max_features=sqrt, min_samples_leaf=10, min_samples_split=100, n_estimators=400; total time=   0.1s\n",
      "[CV] END max_depth=10, max_features=sqrt, min_samples_leaf=10, min_samples_split=100, n_estimators=400; total time=   0.1s\n",
      "[CV] END max_depth=10, max_features=sqrt, min_samples_leaf=10, min_samples_split=100, n_estimators=400; total time=   0.1s\n",
      "[CV] END max_depth=10, max_features=sqrt, min_samples_leaf=10, min_samples_split=100, n_estimators=400; total time=   0.1s\n",
      "[CV] END max_depth=10, max_features=sqrt, min_samples_leaf=10, min_samples_split=5, n_estimators=1000; total time=   0.5s\n",
      "[CV] END max_depth=10, max_features=sqrt, min_samples_leaf=10, min_samples_split=5, n_estimators=1000; total time=   0.5s\n",
      "[CV] END max_depth=10, max_features=sqrt, min_samples_leaf=10, min_samples_split=5, n_estimators=1000; total time=   0.5s\n"
     ]
    },
    {
     "name": "stdout",
     "output_type": "stream",
     "text": [
      "[CV] END max_depth=10, max_features=sqrt, min_samples_leaf=10, min_samples_split=5, n_estimators=1000; total time=   0.5s\n",
      "[CV] END max_depth=10, max_features=sqrt, min_samples_leaf=10, min_samples_split=5, n_estimators=1000; total time=   0.5s\n",
      "[CV] END max_depth=5, max_features=auto, min_samples_leaf=1, min_samples_split=2, n_estimators=600; total time=   0.3s\n",
      "[CV] END max_depth=5, max_features=auto, min_samples_leaf=1, min_samples_split=2, n_estimators=600; total time=   0.3s\n",
      "[CV] END max_depth=5, max_features=auto, min_samples_leaf=1, min_samples_split=2, n_estimators=600; total time=   0.3s\n",
      "[CV] END max_depth=5, max_features=auto, min_samples_leaf=1, min_samples_split=2, n_estimators=600; total time=   0.3s\n",
      "[CV] END max_depth=5, max_features=auto, min_samples_leaf=1, min_samples_split=2, n_estimators=600; total time=   0.3s\n",
      "[CV] END max_depth=20, max_features=auto, min_samples_leaf=1, min_samples_split=5, n_estimators=500; total time=   0.3s\n",
      "[CV] END max_depth=20, max_features=auto, min_samples_leaf=1, min_samples_split=5, n_estimators=500; total time=   0.3s\n",
      "[CV] END max_depth=20, max_features=auto, min_samples_leaf=1, min_samples_split=5, n_estimators=500; total time=   0.3s\n",
      "[CV] END max_depth=20, max_features=auto, min_samples_leaf=1, min_samples_split=5, n_estimators=500; total time=   0.3s\n",
      "[CV] END max_depth=20, max_features=auto, min_samples_leaf=1, min_samples_split=5, n_estimators=500; total time=   0.3s\n",
      "[CV] END max_depth=30, max_features=auto, min_samples_leaf=1, min_samples_split=100, n_estimators=100; total time=   0.0s\n",
      "[CV] END max_depth=30, max_features=auto, min_samples_leaf=1, min_samples_split=100, n_estimators=100; total time=   0.0s\n",
      "[CV] END max_depth=30, max_features=auto, min_samples_leaf=1, min_samples_split=100, n_estimators=100; total time=   0.0s\n",
      "[CV] END max_depth=30, max_features=auto, min_samples_leaf=1, min_samples_split=100, n_estimators=100; total time=   0.0s\n",
      "[CV] END max_depth=30, max_features=auto, min_samples_leaf=1, min_samples_split=100, n_estimators=100; total time=   0.0s\n",
      "[CV] END max_depth=5, max_features=sqrt, min_samples_leaf=10, min_samples_split=2, n_estimators=500; total time=   0.2s\n",
      "[CV] END max_depth=5, max_features=sqrt, min_samples_leaf=10, min_samples_split=2, n_estimators=500; total time=   0.2s\n",
      "[CV] END max_depth=5, max_features=sqrt, min_samples_leaf=10, min_samples_split=2, n_estimators=500; total time=   0.2s\n",
      "[CV] END max_depth=5, max_features=sqrt, min_samples_leaf=10, min_samples_split=2, n_estimators=500; total time=   0.2s\n",
      "[CV] END max_depth=5, max_features=sqrt, min_samples_leaf=10, min_samples_split=2, n_estimators=500; total time=   0.2s\n",
      "[CV] END max_depth=25, max_features=sqrt, min_samples_leaf=10, min_samples_split=15, n_estimators=600; total time=   0.3s\n",
      "[CV] END max_depth=25, max_features=sqrt, min_samples_leaf=10, min_samples_split=15, n_estimators=600; total time=   0.3s\n",
      "[CV] END max_depth=25, max_features=sqrt, min_samples_leaf=10, min_samples_split=15, n_estimators=600; total time=   0.3s\n",
      "[CV] END max_depth=25, max_features=sqrt, min_samples_leaf=10, min_samples_split=15, n_estimators=600; total time=   0.3s\n",
      "[CV] END max_depth=25, max_features=sqrt, min_samples_leaf=10, min_samples_split=15, n_estimators=600; total time=   0.3s\n",
      "[CV] END max_depth=25, max_features=sqrt, min_samples_leaf=5, min_samples_split=10, n_estimators=1200; total time=   0.6s\n",
      "[CV] END max_depth=25, max_features=sqrt, min_samples_leaf=5, min_samples_split=10, n_estimators=1200; total time=   0.6s\n",
      "[CV] END max_depth=25, max_features=sqrt, min_samples_leaf=5, min_samples_split=10, n_estimators=1200; total time=   0.6s\n",
      "[CV] END max_depth=25, max_features=sqrt, min_samples_leaf=5, min_samples_split=10, n_estimators=1200; total time=   0.6s\n",
      "[CV] END max_depth=25, max_features=sqrt, min_samples_leaf=5, min_samples_split=10, n_estimators=1200; total time=   0.7s\n"
     ]
    },
    {
     "data": {
      "text/plain": [
       "RandomizedSearchCV(cv=5, estimator=RandomForestRegressor(), n_iter=20, n_jobs=1,\n",
       "                   param_distributions={'max_depth': [5, 10, 15, 20, 25, 30],\n",
       "                                        'max_features': ['auto', 'sqrt'],\n",
       "                                        'min_samples_leaf': [1, 2, 5, 10],\n",
       "                                        'min_samples_split': [2, 5, 10, 15,\n",
       "                                                              100],\n",
       "                                        'n_estimators': [100, 200, 300, 400,\n",
       "                                                         500, 600, 700, 800,\n",
       "                                                         900, 1000, 1100,\n",
       "                                                         1200]},\n",
       "                   scoring='neg_mean_squared_error', verbose=2)"
      ]
     },
     "execution_count": 73,
     "metadata": {},
     "output_type": "execute_result"
    }
   ],
   "source": [
    "rf_grid.fit(X_train, y_train)"
   ]
  },
  {
   "cell_type": "code",
   "execution_count": 74,
   "id": "5ecf9dd3",
   "metadata": {},
   "outputs": [],
   "source": [
    "rf_y_train_pred = rf_grid.predict(X_train)\n",
    "rf_y_test_pred = rf_grid.predict(X_test)"
   ]
  },
  {
   "cell_type": "code",
   "execution_count": 75,
   "id": "e80697af",
   "metadata": {},
   "outputs": [],
   "source": [
    "best_rf = best_estimator = rf_grid.best_estimator_"
   ]
  },
  {
   "cell_type": "code",
   "execution_count": 76,
   "id": "988a7fa1",
   "metadata": {},
   "outputs": [],
   "source": [
    "train_mse_rf_grid = mean_squared_error(y_train, rf_y_train_pred)\n",
    "test_mse_rf_grid = mean_squared_error(y_test, rf_y_test_pred)"
   ]
  },
  {
   "cell_type": "code",
   "execution_count": 77,
   "id": "d9dd0d2d",
   "metadata": {},
   "outputs": [
    {
     "name": "stdout",
     "output_type": "stream",
     "text": [
      "Mean Squared Error:  2.7967355640358105\n"
     ]
    }
   ],
   "source": [
    "print(\"Mean Squared Error: \", test_mse_rf_grid)"
   ]
  },
  {
   "cell_type": "code",
   "execution_count": 78,
   "id": "28c677f4",
   "metadata": {},
   "outputs": [],
   "source": [
    "import matplotlib.pyplot as plt"
   ]
  },
  {
   "cell_type": "code",
   "execution_count": 79,
   "id": "f4409f5b",
   "metadata": {},
   "outputs": [
    {
     "data": {
      "image/png": "[encoded data removed]",
      "text/plain": [
       "<Figure size 432x288 with 1 Axes>"
      ]
     },
     "metadata": {
      "needs_background": "light"
     },
     "output_type": "display_data"
    }
   ],
   "source": [
    "# Feature Importances for relative importance\n",
    "feat_imp = pd.Series(best_rf.feature_importances_, index = X.columns)\n",
    "feat_imp.plot(kind = 'barh')\n",
    "plt.xlabel('Relative Feature Importance')\n",
    "plt.ylabel('Feature')\n",
    "plt.show()"
   ]
  },
  {
   "cell_type": "code",
   "execution_count": 80,
   "id": "a8dc2f30",
   "metadata": {},
   "outputs": [
    {
     "name": "stdout",
     "output_type": "stream",
     "text": [
      "[0.12626199 0.06031201 0.06444804 0.0299271  0.2757365  0.30812857\n",
      " 0.10218633 0.02400587 0.00499806 0.00399553]\n"
     ]
    }
   ],
   "source": [
    "print(best_rf.feature_importances_)"
   ]
  },
  {
   "cell_type": "markdown",
   "id": "78a5445f",
   "metadata": {},
   "source": [
    "# Random Forest with 1 to p features:\n",
    "\n",
    "(c) Let p be the number of predictors, i.e., one fewer than the total number of variables/columns\n",
    "in the Carseats dataset. For m = 1, . . . , p, fit a random forest model to predict the Sales\n",
    "variable as a quantitative response, using all other variables in the dataset as predictors. Plot\n",
    "the resulting test MSE (on the y-axis) as a function of m (on the x-axis, ranging from 1 to\n",
    "p). Using m = √p (rounded to the nearest integer if necessary), report the test MSE and\n",
    "relative importance of each predictor"
   ]
  },
  {
   "cell_type": "code",
   "execution_count": 81,
   "id": "c71da423",
   "metadata": {},
   "outputs": [],
   "source": [
    "p = X.shape[1]\n",
    "\n",
    "m = int(np.sqrt(p))\n",
    "\n",
    "m_values = []\n",
    "mse_values = []\n",
    "importance_values = []"
   ]
  },
  {
   "cell_type": "code",
   "execution_count": 82,
   "id": "4ec11050",
   "metadata": {},
   "outputs": [],
   "source": [
    "for num_predictors in range(1, p+1):\n",
    "    # Select num_predictors predictors\n",
    "    selected_predictors = X.columns[:num_predictors]\n",
    "    X_subset = X_train[selected_predictors]\n",
    "    X_test_sub = X_test[selected_predictors]\n",
    "    # Create the random forest regressor\n",
    "    rf = RandomForestRegressor()\n",
    "    \n",
    "    rf.fit(X_subset, y_train)\n",
    "    \n",
    "    y_pred = rf.predict(X_subset)\n",
    "    y_test_pred = rf.predict(X_test_sub)\n",
    "    mse = mean_squared_error(y_test_pred, y_test)\n",
    "    \n",
    "    importance = rf.feature_importances_\n",
    "    \n",
    "    m_values.append(num_predictors)\n",
    "    mse_values.append(mse)\n",
    "    importance_values.append(importance)"
   ]
  },
  {
   "cell_type": "code",
   "execution_count": 83,
   "id": "13b685ff",
   "metadata": {},
   "outputs": [
    {
     "data": {
      "image/png": "[encoded data removed]",
      "text/plain": [
       "<Figure size 432x288 with 1 Axes>"
      ]
     },
     "metadata": {
      "needs_background": "light"
     },
     "output_type": "display_data"
    }
   ],
   "source": [
    "plt.plot(m_values, mse_values, color = 'blue', marker='o')\n",
    "plt.xlabel('Number of Predictors (m)')\n",
    "plt.ylabel('Test Mean Squared Error')\n",
    "plt.title('Random Forest Performance')\n",
    "plt.show()"
   ]
  },
  {
   "cell_type": "code",
   "execution_count": 84,
   "id": "fd6deca4",
   "metadata": {},
   "outputs": [
    {
     "name": "stdout",
     "output_type": "stream",
     "text": [
      "Test MSE for m = sqrt(p): 10.088313145333329\n",
      "Relative importance of each predictor for m = sqrt(p):\n",
      "CompPrice : 0.39515085446937454\n",
      "Income : 0.387585921066421\n",
      "Advertising : 0.21726322446420454\n"
     ]
    }
   ],
   "source": [
    "m_index = int(np.sqrt(p)) - 1\n",
    "\n",
    "print(\"Test MSE for m = sqrt(p):\", mse_values[m_index])\n",
    "print(\"Relative importance of each predictor for m = sqrt(p):\")\n",
    "for i, predictor in enumerate(X.columns[:m]):\n",
    "    print(predictor, \":\", importance_values[m_index][i])"
   ]
  },
  {
   "cell_type": "markdown",
   "id": "227517ee",
   "metadata": {},
   "source": [
    "# LASSO on The Whole Dataset\n",
    "\n",
    "(d) Using the full dataset, i.e., not just the 70% split for training observations, fit a LASSO\n",
    "regression model to predict the Sales variable as a quantitative response, using all other\n",
    "variables in the dataset as predictors. Plot the coefficient path for whichever range of λ\n",
    "values is the default choice for the function you used. Discuss whether this plot makes sense\n",
    "in conjunction with the variable importance rankings from your bagging and random forest\n",
    "procedures. "
   ]
  },
  {
   "cell_type": "code",
   "execution_count": 85,
   "id": "dce018d1",
   "metadata": {},
   "outputs": [],
   "source": [
    "from sklearn.linear_model import Lasso"
   ]
  },
  {
   "cell_type": "code",
   "execution_count": 86,
   "id": "a71e0b69",
   "metadata": {},
   "outputs": [],
   "source": [
    "alphas = np.logspace(-4, 0, 50)"
   ]
  },
  {
   "cell_type": "code",
   "execution_count": 98,
   "id": "6650f984",
   "metadata": {},
   "outputs": [],
   "source": [
    "# Fit the model on the training data\n",
    "coefs = []\n",
    "for i in range(len(alphas)):\n",
    "    lasso = Lasso(alpha = alphas[i])\n",
    "    l1_model = lasso.fit(X, y)\n",
    "    coefs.append(l1_model.coef_)"
   ]
  },
  {
   "cell_type": "code",
   "execution_count": 99,
   "id": "6e7778b8",
   "metadata": {},
   "outputs": [],
   "source": [
    "coef_df = pd.DataFrame(coefs, columns = X.columns)"
   ]
  },
  {
   "cell_type": "code",
   "execution_count": 100,
   "id": "8a7106e4",
   "metadata": {},
   "outputs": [
    {
     "data": {
      "text/html": [
       "<div>\n",
       "<style scoped>\n",
       "    .dataframe tbody tr th:only-of-type {\n",
       "        vertical-align: middle;\n",
       "    }\n",
       "\n",
       "    .dataframe tbody tr th {\n",
       "        vertical-align: top;\n",
       "    }\n",
       "\n",
       "    .dataframe thead th {\n",
       "        text-align: right;\n",
       "    }\n",
       "</style>\n",
       "<table border=\"1\" class=\"dataframe\">\n",
       "  <thead>\n",
       "    <tr style=\"text-align: right;\">\n",
       "      <th></th>\n",
       "      <th>CompPrice</th>\n",
       "      <th>Income</th>\n",
       "      <th>Advertising</th>\n",
       "      <th>Population</th>\n",
       "      <th>Price</th>\n",
       "      <th>ShelveLoc</th>\n",
       "      <th>Age</th>\n",
       "      <th>Education</th>\n",
       "      <th>Urban</th>\n",
       "      <th>US</th>\n",
       "    </tr>\n",
       "  </thead>\n",
       "  <tbody>\n",
       "    <tr>\n",
       "      <th>0</th>\n",
       "      <td>0.092552</td>\n",
       "      <td>0.016152</td>\n",
       "      <td>0.120321</td>\n",
       "      <td>0.000291</td>\n",
       "      <td>-0.095247</td>\n",
       "      <td>2.411321</td>\n",
       "      <td>-0.046860</td>\n",
       "      <td>-0.020928</td>\n",
       "      <td>0.140692</td>\n",
       "      <td>-0.128427</td>\n",
       "    </tr>\n",
       "    <tr>\n",
       "      <th>1</th>\n",
       "      <td>0.092552</td>\n",
       "      <td>0.016152</td>\n",
       "      <td>0.120311</td>\n",
       "      <td>0.000291</td>\n",
       "      <td>-0.095247</td>\n",
       "      <td>2.411269</td>\n",
       "      <td>-0.046860</td>\n",
       "      <td>-0.020923</td>\n",
       "      <td>0.140585</td>\n",
       "      <td>-0.128236</td>\n",
       "    </tr>\n",
       "    <tr>\n",
       "      <th>2</th>\n",
       "      <td>0.092552</td>\n",
       "      <td>0.016152</td>\n",
       "      <td>0.120300</td>\n",
       "      <td>0.000291</td>\n",
       "      <td>-0.095247</td>\n",
       "      <td>2.411206</td>\n",
       "      <td>-0.046859</td>\n",
       "      <td>-0.020918</td>\n",
       "      <td>0.140456</td>\n",
       "      <td>-0.128006</td>\n",
       "    </tr>\n",
       "    <tr>\n",
       "      <th>3</th>\n",
       "      <td>0.092552</td>\n",
       "      <td>0.016151</td>\n",
       "      <td>0.120286</td>\n",
       "      <td>0.000291</td>\n",
       "      <td>-0.095247</td>\n",
       "      <td>2.411130</td>\n",
       "      <td>-0.046859</td>\n",
       "      <td>-0.020912</td>\n",
       "      <td>0.140301</td>\n",
       "      <td>-0.127729</td>\n",
       "    </tr>\n",
       "    <tr>\n",
       "      <th>4</th>\n",
       "      <td>0.092552</td>\n",
       "      <td>0.016151</td>\n",
       "      <td>0.120269</td>\n",
       "      <td>0.000291</td>\n",
       "      <td>-0.095246</td>\n",
       "      <td>2.411038</td>\n",
       "      <td>-0.046859</td>\n",
       "      <td>-0.020905</td>\n",
       "      <td>0.140113</td>\n",
       "      <td>-0.127393</td>\n",
       "    </tr>\n",
       "  </tbody>\n",
       "</table>\n",
       "</div>"
      ],
      "text/plain": [
       "   CompPrice    Income  Advertising  Population     Price  ShelveLoc  \\\n",
       "0   0.092552  0.016152     0.120321    0.000291 -0.095247   2.411321   \n",
       "1   0.092552  0.016152     0.120311    0.000291 -0.095247   2.411269   \n",
       "2   0.092552  0.016152     0.120300    0.000291 -0.095247   2.411206   \n",
       "3   0.092552  0.016151     0.120286    0.000291 -0.095247   2.411130   \n",
       "4   0.092552  0.016151     0.120269    0.000291 -0.095246   2.411038   \n",
       "\n",
       "        Age  Education     Urban        US  \n",
       "0 -0.046860  -0.020928  0.140692 -0.128427  \n",
       "1 -0.046860  -0.020923  0.140585 -0.128236  \n",
       "2 -0.046859  -0.020918  0.140456 -0.128006  \n",
       "3 -0.046859  -0.020912  0.140301 -0.127729  \n",
       "4 -0.046859  -0.020905  0.140113 -0.127393  "
      ]
     },
     "execution_count": 100,
     "metadata": {},
     "output_type": "execute_result"
    }
   ],
   "source": [
    "coef_df.head()"
   ]
  },
  {
   "cell_type": "code",
   "execution_count": 101,
   "id": "9805bd6e",
   "metadata": {},
   "outputs": [],
   "source": [
    "coef_df['lambda_value'] = alphas"
   ]
  },
  {
   "cell_type": "code",
   "execution_count": 102,
   "id": "02abdc46",
   "metadata": {},
   "outputs": [
    {
     "data": {
      "text/plain": [
       "(50, 11)"
      ]
     },
     "execution_count": 102,
     "metadata": {},
     "output_type": "execute_result"
    }
   ],
   "source": [
    "coef_df.shape"
   ]
  },
  {
   "cell_type": "code",
   "execution_count": 103,
   "id": "084f8c6d",
   "metadata": {},
   "outputs": [
    {
     "name": "stdout",
     "output_type": "stream",
     "text": [
      "<class 'pandas.core.frame.DataFrame'>\n",
      "RangeIndex: 50 entries, 0 to 49\n",
      "Data columns (total 11 columns):\n",
      " #   Column        Non-Null Count  Dtype  \n",
      "---  ------        --------------  -----  \n",
      " 0   CompPrice     50 non-null     float64\n",
      " 1   Income        50 non-null     float64\n",
      " 2   Advertising   50 non-null     float64\n",
      " 3   Population    50 non-null     float64\n",
      " 4   Price         50 non-null     float64\n",
      " 5   ShelveLoc     50 non-null     float64\n",
      " 6   Age           50 non-null     float64\n",
      " 7   Education     50 non-null     float64\n",
      " 8   Urban         50 non-null     float64\n",
      " 9   US            50 non-null     float64\n",
      " 10  lambda_value  50 non-null     float64\n",
      "dtypes: float64(11)\n",
      "memory usage: 4.4 KB\n"
     ]
    }
   ],
   "source": [
    "coef_df.info()"
   ]
  },
  {
   "cell_type": "code",
   "execution_count": 104,
   "id": "60d1774f",
   "metadata": {},
   "outputs": [
    {
     "data": {
      "image/png": "[encoded data removed]",
      "text/plain": [
       "<Figure size 432x288 with 1 Axes>"
      ]
     },
     "metadata": {
      "needs_background": "light"
     },
     "output_type": "display_data"
    },
    {
     "data": {
      "image/png": "[encoded data removed]",
      "text/plain": [
       "<Figure size 432x288 with 1 Axes>"
      ]
     },
     "metadata": {
      "needs_background": "light"
     },
     "output_type": "display_data"
    },
    {
     "data": {
      "image/png": "[encoded data removed]",
      "text/plain": [
       "<Figure size 432x288 with 1 Axes>"
      ]
     },
     "metadata": {
      "needs_background": "light"
     },
     "output_type": "display_data"
    },
    {
     "data": {
      "image/png": "[encoded data removed]",
      "text/plain": [
       "<Figure size 432x288 with 1 Axes>"
      ]
     },
     "metadata": {
      "needs_background": "light"
     },
     "output_type": "display_data"
    },
    {
     "data": {
      "image/png": "[encoded data removed]",
      "text/plain": [
       "<Figure size 432x288 with 1 Axes>"
      ]
     },
     "metadata": {
      "needs_background": "light"
     },
     "output_type": "display_data"
    },
    {
     "data": {
      "image/png": "[encoded data removed]",
      "text/plain": [
       "<Figure size 432x288 with 1 Axes>"
      ]
     },
     "metadata": {
      "needs_background": "light"
     },
     "output_type": "display_data"
    },
    {
     "data": {
      "image/png": "[encoded data removed]",
      "text/plain": [
       "<Figure size 432x288 with 1 Axes>"
      ]
     },
     "metadata": {
      "needs_background": "light"
     },
     "output_type": "display_data"
    },
    {
     "data": {
      "image/png": "[encoded data removed]",
      "text/plain": [
       "<Figure size 432x288 with 1 Axes>"
      ]
     },
     "metadata": {
      "needs_background": "light"
     },
     "output_type": "display_data"
    },
    {
     "data": {
      "image/png": "[encoded data removed]",
      "text/plain": [
       "<Figure size 432x288 with 1 Axes>"
      ]
     },
     "metadata": {
      "needs_background": "light"
     },
     "output_type": "display_data"
    },
    {
     "data": {
      "image/png": "[encoded data removed]",
      "text/plain": [
       "<Figure size 432x288 with 1 Axes>"
      ]
     },
     "metadata": {
      "needs_background": "light"
     },
     "output_type": "display_data"
    }
   ],
   "source": [
    "for i in X.columns:\n",
    "    col_vals = coef_df[i]\n",
    "    plt.plot(alphas,col_vals,color = 'blue', marker = 'o')\n",
    "    plt.figsize = (10,10)\n",
    "    plt.title(f'Coefficient of {i} vs Lambda')\n",
    "    plt.xlabel('Lambda')\n",
    "    plt.ylabel('Coef Value')\n",
    "    plt.show()"
   ]
  },
  {
   "cell_type": "markdown",
   "id": "d5712d21",
   "metadata": {},
   "source": [
    "The results of the LASSO model are mostly in agreement with the other models. With the exception of advertising, all other features are 1 or 2 positions away from that of the other model in terms of their positioning in the importance hierarchy.\n",
    "\n",
    "The features in decreasing order of absolute values of coefficients (LASSO):\n",
    "1. ShelveLoc\n",
    "2. Advertising\n",
    "3. Price\n",
    "4. ComPrice\n",
    "5. Age\n",
    "6. Income\n",
    "7. Population\n",
    "8. Education\n",
    "9. Urban\n",
    "10. US\n",
    "\n",
    "(8, 9, and 10 are interchangeable since they all have zero coefficients)\n",
    "\n",
    "Features in decreasing order of relative importance (Random Forest):\n",
    "1. ShelveLoc\n",
    "2. Price\n",
    "3. ComPrice\n",
    "4. Age\n",
    "5. Advertising\n",
    "6. Income\n",
    "7. Population\n",
    "8. Education\n",
    "9. Urban\n",
    "10. US\n",
    "\n",
    "The above result is for a custom range of lambdas to understand the coefficient trends on a smaller range."
   ]
  },
  {
   "cell_type": "markdown",
   "id": "00da6a6f",
   "metadata": {},
   "source": [
    "#### The overall coefficient path can be visualized below"
   ]
  },
  {
   "cell_type": "code",
   "execution_count": 105,
   "id": "5fb10ff5",
   "metadata": {},
   "outputs": [],
   "source": [
    "from sklearn.preprocessing import StandardScaler\n",
    "from sklearn.linear_model import LassoCV"
   ]
  },
  {
   "cell_type": "code",
   "execution_count": 111,
   "id": "b2c2be8e",
   "metadata": {},
   "outputs": [],
   "source": [
    "sc = StandardScaler() # Scaling done to introduce uniformity in the coefficient path\n",
    "X_sc = sc.fit_transform(X)\n",
    "lasso_cv = LassoCV(cv=5)\n",
    "lasso_cv.fit(X_sc, y)\n",
    "alphas = lasso_cv.alphas_\n",
    "coefficient_path = lasso.path(X_sc, y)[1]"
   ]
  },
  {
   "cell_type": "code",
   "execution_count": 112,
   "id": "1afd08c3",
   "metadata": {},
   "outputs": [
    {
     "data": {
      "image/png": "[encoded data removed]",
      "text/plain": [
       "<Figure size 1152x648 with 1 Axes>"
      ]
     },
     "metadata": {
      "needs_background": "light"
     },
     "output_type": "display_data"
    }
   ],
   "source": [
    "plt.figure(figsize=(16, 9))\n",
    "\n",
    "colors = ['red', 'green', 'blue', 'violet', 'brown', 'cyan', 'yellow', 'black', 'pink', 'purple']\n",
    "for i,color in enumerate(colors):\n",
    "    plt.plot(np.log(alphas), coefficient_path[i], color)\n",
    "plt.xlabel(\"Log lambda\")\n",
    "plt.ylabel(\"Coefficients\")\n",
    "plt.title(\"Coefficient Path\")\n",
    "plt.legend(X.columns, loc=\"upper right\")\n",
    "plt.grid(False)\n",
    "plt.show()"
   ]
  },
  {
   "cell_type": "markdown",
   "id": "25d2b064",
   "metadata": {},
   "source": [
    "In the overall coefficient path, here is the decreasing order of importance:\n",
    "\n",
    "1. ShelveLoc\n",
    "2. Price\n",
    "3. Advertising\n",
    "4. Age\n",
    "5. CompPrice\n",
    "6. Income\n",
    "7. Population\n",
    "8. Urban\n",
    "9. Education\n",
    "10. US\n",
    "\n",
    "Which, again, is mostly consistent with previous results"
   ]
  }
 ],
 "metadata": {
  "kernelspec": {
   "display_name": "Python 3 (ipykernel)",
   "language": "python",
   "name": "python3"
  },
  "language_info": {
   "codemirror_mode": {
    "name": "ipython",
    "version": 3
   },
   "file_extension": ".py",
   "mimetype": "text/x-python",
   "name": "python",
   "nbconvert_exporter": "python",
   "pygments_lexer": "ipython3",
   "version": "3.9.12"
  }
 },
 "nbformat": 4,
 "nbformat_minor": 5
}
