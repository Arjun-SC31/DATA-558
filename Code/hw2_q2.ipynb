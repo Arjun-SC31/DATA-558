{
 "cells": [
  {
   "cell_type": "code",
   "execution_count": 11,
   "id": "df82e55c",
   "metadata": {},
   "outputs": [],
   "source": [
    "import numpy as np\n",
    "import matplotlib.pyplot as plt"
   ]
  },
  {
   "cell_type": "code",
   "execution_count": 12,
   "id": "6da824ab",
   "metadata": {},
   "outputs": [],
   "source": [
    "np.random.seed(1)"
   ]
  },
  {
   "cell_type": "code",
   "execution_count": 13,
   "id": "d8582f25",
   "metadata": {},
   "outputs": [],
   "source": [
    "n = 400\n",
    "X1 = np.concatenate((np.random.normal(1, 1, n//2), np.random.normal(-1, 1, n//2)))\n",
    "X2 = np.random.normal(0, 1, n)\n",
    "Y = np.concatenate((np.repeat(1, n//2), np.repeat(0, n//2)))\n",
    "beta_1_star = 5\n",
    "beta_2_star = -1"
   ]
  },
  {
   "cell_type": "code",
   "execution_count": 15,
   "id": "5cbd3a12",
   "metadata": {},
   "outputs": [
    {
     "data": {
      "image/png": "[encoded data removed]",
      "text/plain": [
       "<Figure size 432x288 with 1 Axes>"
      ]
     },
     "metadata": {
      "needs_background": "light"
     },
     "output_type": "display_data"
    },
    {
     "name": "stdout",
     "output_type": "stream",
     "text": [
      "False positive rate: 0.06842105263157895\n",
      "False negative rate: 0.0761904761904762\n"
     ]
    }
   ],
   "source": [
    "prob = np.exp(beta_1_star*X1 + beta_2_star*X2) / (1 + np.exp(beta_1_star*X1 + beta_2_star*X2))\n",
    "Y = np.random.binomial(1, prob, n)\n",
    "\n",
    "mu_0 = np.array([np.mean(X1[Y == 0]), np.mean(X2[Y == 0])])\n",
    "mu_1 = np.array([np.mean(X1[Y == 1]), np.mean(X2[Y == 1])])\n",
    "\n",
    "cov_0 = np.cov(X1[Y == 0], X2[Y == 0])\n",
    "cov_1 = np.cov(X1[Y == 1], X2[Y == 1])\n",
    "\n",
    "pooled_cov = (cov_0*(sum(Y == 0)-1) + cov_1*(sum(Y == 1)-1)) / (n-2)\n",
    "\n",
    "w = np.linalg.solve(pooled_cov, mu_1 - mu_0)\n",
    "w0 = -0.5*np.dot(w, (mu_0 + mu_1))\n",
    "\n",
    "plt.scatter(X1[Y==0], X2[Y==0], c='red', marker='o', label='Negative')\n",
    "plt.scatter(X1[Y==1], X2[Y==1], c='blue', marker='o', label='Positive')\n",
    "\n",
    "x = np.linspace(-5, 5, 100)\n",
    "y = -(w[0]/w[1])*x - w0/w[1]\n",
    "\n",
    "plt.plot(x, y, c='black', label='Decision Boundary')\n",
    "plt.legend(loc='lower right')\n",
    "plt.title('LDA')\n",
    "plt.xlim(-5,5)\n",
    "plt.ylim(-5,5)\n",
    "plt.show()\n",
    "\n",
    "z = np.dot(w, np.vstack((X1, X2))) + w0\n",
    "y_pred = (z > 0).astype(int)\n",
    "tp = np.sum((Y == 1) & (y_pred == 1))\n",
    "tn = np.sum((Y == 0) & (y_pred == 0))\n",
    "fp = np.sum((Y == 0) & (y_pred == 1))\n",
    "fn = np.sum((Y == 1) & (y_pred == 0))\n",
    "FPR = fp/(fp+tn)\n",
    "FNR = fn/(tp+fn)\n",
    "\n",
    "print(\"False positive rate:\", FPR)\n",
    "print(\"False negative rate:\", FNR)"
   ]
  },
  {
   "cell_type": "code",
   "execution_count": null,
   "id": "c77d45fc",
   "metadata": {},
   "outputs": [],
   "source": []
  }
 ],
 "metadata": {
  "kernelspec": {
   "display_name": "Python 3 (ipykernel)",
   "language": "python",
   "name": "python3"
  },
  "language_info": {
   "codemirror_mode": {
    "name": "ipython",
    "version": 3
   },
   "file_extension": ".py",
   "mimetype": "text/x-python",
   "name": "python",
   "nbconvert_exporter": "python",
   "pygments_lexer": "ipython3",
   "version": "3.9.12"
  }
 },
 "nbformat": 4,
 "nbformat_minor": 5
}
