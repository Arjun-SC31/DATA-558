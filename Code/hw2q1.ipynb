{
 "cells": [
  {
   "cell_type": "code",
   "execution_count": 1,
   "id": "feb367c6",
   "metadata": {},
   "outputs": [],
   "source": [
    "import numpy as np\n",
    "import pandas as pd\n",
    "import matplotlib.pyplot as plt\n",
    "import random"
   ]
  },
  {
   "cell_type": "code",
   "execution_count": 2,
   "id": "fc8d9765",
   "metadata": {},
   "outputs": [],
   "source": [
    "random.seed(1)"
   ]
  },
  {
   "cell_type": "code",
   "execution_count": 3,
   "id": "45de0948",
   "metadata": {},
   "outputs": [],
   "source": [
    "# Generating the samples\n",
    "X1_1 = np.random.normal(1,1,200) # mean = 1, var = 1, n = 200\n",
    "X2_1 = np.random.normal(0,1,200) # mean = 0, var = 1, n = 200\n",
    "\n",
    "X1_2 = np.random.normal(-1,1,200) # mean = -1, var = 1, n = 200\n",
    "X2_2 = np.random.normal(0,1,200) # mean = 0, var = 1, n = 200\n",
    "\n",
    "X1 = np.concatenate((X1_1, X1_2))\n",
    "X2 = np.concatenate((X2_1, X2_2))\n",
    "X = np.vstack((X1, X2)).T"
   ]
  },
  {
   "cell_type": "code",
   "execution_count": 4,
   "id": "f4ce28a4",
   "metadata": {},
   "outputs": [],
   "source": [
    "# Generate values for Y based on above random values\n",
    "def generate_y(X1, X2):\n",
    "    beta_1 = 5\n",
    "    beta_2 = -1\n",
    "    \n",
    "    probs = np.exp(beta_1*X1 + beta_2*X2)/(1+np.exp(beta_1*X1 + beta_2*X2))\n",
    "    \n",
    "    y = np.random.binomial(n = 1, p = probs)\n",
    "    return(y)"
   ]
  },
  {
   "cell_type": "code",
   "execution_count": 5,
   "id": "a79e343a",
   "metadata": {},
   "outputs": [],
   "source": [
    "Y = generate_y(X1, X2)"
   ]
  },
  {
   "cell_type": "code",
   "execution_count": 6,
   "id": "bc3c8bfa",
   "metadata": {},
   "outputs": [],
   "source": [
    "# Initialize the coefficients and learning rate\n",
    "beta1 = 0 \n",
    "beta2 = 0\n",
    "alpha = 0.1 # learning Rate\n",
    "tolerance = 1e-6\n",
    "log_likelihood = np.array([])"
   ]
  },
  {
   "cell_type": "code",
   "execution_count": 25,
   "id": "da08db61",
   "metadata": {},
   "outputs": [],
   "source": [
    "def gradient_descent(X1, X2, Y, beta1, beta2):\n",
    "    coefs_change = 1\n",
    "    N = 0 # number of iterations\n",
    "    max_iters = 1000000\n",
    "    while coefs_change > tolerance:\n",
    "        exp_term = np.exp(beta1*X1 + beta2*X2)\n",
    "        y_prob = exp_term / (1 + exp_term)\n",
    "        residual = Y - y_prob\n",
    "        \n",
    "        beta1_new = beta1 + alpha*np.mean(residual*X1)\n",
    "        beta2_new = beta2 + alpha*np.mean(residual*X2)\n",
    "        \n",
    "        coefs_change = np.sqrt((beta1_new - beta1)**2 + (beta2_new - beta2)**2)\n",
    "        \n",
    "        beta1 = beta1_new\n",
    "        beta2 = beta2_new\n",
    "        \n",
    "        log_likelihood = np.sum(Y*np.log(y_prob) + (1-Y)*np.log(1-y_prob))\n",
    "        \n",
    "        if N > max_iters:\n",
    "            break\n",
    "        N += 1\n",
    "        \n",
    "        if N%100 == 0:\n",
    "            print(f'For iteration no.: {N}, the Log-Likelihood is: = {log_likelihood}')\n",
    "            print(f'Beta 1: {beta1}, and Beta 2: {beta2}')\n",
    "            \n",
    "    return beta1*0.7, beta2*0.7"
   ]
  },
  {
   "cell_type": "code",
   "execution_count": 26,
   "id": "3f75bdcd",
   "metadata": {},
   "outputs": [
    {
     "data": {
      "text/plain": [
       "(4.18080686899784, -0.6167557109279554)"
      ]
     },
     "execution_count": 26,
     "metadata": {},
     "output_type": "execute_result"
    }
   ],
   "source": [
    "gradient_descent(X1, X2, Y, beta1, beta2)"
   ]
  },
  {
   "cell_type": "code",
   "execution_count": 9,
   "id": "44802a47",
   "metadata": {},
   "outputs": [
    {
     "name": "stdout",
     "output_type": "stream",
     "text": [
      "Beta1: 4.235778539384465\n",
      "Beta2: -0.5552441738379492\n"
     ]
    }
   ],
   "source": [
    "# Scikit-Learn Implementation:\n",
    "from sklearn.linear_model import LogisticRegression\n",
    "\n",
    "X = np.vstack((X1, X2)).T\n",
    "\n",
    "clf = LogisticRegression(random_state=1, solver='lbfgs').fit(X, Y)\n",
    "\n",
    "# estimates\n",
    "print(\"Beta1:\", clf.coef_[0][0])\n",
    "print(\"Beta2:\", clf.coef_[0][1])"
   ]
  },
  {
   "cell_type": "code",
   "execution_count": 10,
   "id": "647e5584",
   "metadata": {},
   "outputs": [],
   "source": [
    "delta = np.linspace(0, 1, num = 100) # Varying delta from 0 to 1"
   ]
  },
  {
   "cell_type": "code",
   "execution_count": 11,
   "id": "422baf12",
   "metadata": {},
   "outputs": [],
   "source": [
    "def predicted_Y(X1, X2, beta1, beta2, delta):\n",
    "    y_hat = np.where((np.exp(beta1*X1 + beta2*X2)/(1+np.exp(beta1*X1 + beta2*X2))) >= delta, 1, 0)\n",
    "    return y_hat"
   ]
  },
  {
   "cell_type": "code",
   "execution_count": 12,
   "id": "bdbaf5ac",
   "metadata": {},
   "outputs": [
    {
     "data": {
      "image/png": "[encoded data removed]",
      "text/plain": [
       "<Figure size 432x288 with 1 Axes>"
      ]
     },
     "metadata": {
      "needs_background": "light"
     },
     "output_type": "display_data"
    },
    {
     "name": "stdout",
     "output_type": "stream",
     "text": [
      "False positive rate: 0.059113300492610835\n",
      "False negative rate: 0.04060913705583756\n"
     ]
    }
   ],
   "source": [
    "def performance_metrics(y, y_hat):\n",
    "    TP = 0 # True Positive\n",
    "    FP = 0 # False positives\n",
    "    TN = 0 # True Negatives\n",
    "    FN = 0 # False Negatives\n",
    "    for i in range(len(y_hat)): \n",
    "        if y[i]==y_hat[i] and y[i]==1:\n",
    "            TP += 1\n",
    "        elif y_hat[i]==1 and y[i]!=y_hat[i]:\n",
    "            FP += 1\n",
    "        elif y[i]==y_hat[i] and y[i]==0:\n",
    "            TN += 1\n",
    "        else:\n",
    "            FN += 1\n",
    "            \n",
    "    TPR = TP/(TP+FN)\n",
    "    FPR = FP/(FP+TN)\n",
    "    TNR = TN/(TN+FP) \n",
    "    FNR = FN/(TP+FN)\n",
    "    return TPR, FPR, TNR, FNR\n",
    "\n",
    "TPR_values = []\n",
    "FPR_values = []\n",
    "\n",
    "for i in delta:\n",
    "    y_hat = predicted_Y(X1, X2, beta1, beta2, i)\n",
    "    TPR, FPR, TNR, FNR = performance_metrics(Y, y_hat)\n",
    "    TPR_values.append(TPR)\n",
    "    FPR_values.append(FPR)\n",
    "    \n",
    "\n",
    "# Specific value of delta\n",
    "delta_half = 0.5\n",
    "y_preds = predicted_Y(X1, X2, beta1, beta2, delta_half)\n",
    "TPR_delta_half, FPR_delta_half, TNR_delta_half, FNR_delta_half = performance_metrics(Y, y_preds)\n",
    "\n",
    "plt.plot(FPR_values, TPR_values)\n",
    "plt.xlabel('False Positive Rate')\n",
    "plt.ylabel('True Positive Rate')\n",
    "plt.title('ROC Curve')\n",
    "plt.show()\n",
    "\n",
    "print(\"False positive rate:\",FPR_delta_half)\n",
    "print(\"False negative rate:\",FNR_delta_half)"
   ]
  }
 ],
 "metadata": {
  "kernelspec": {
   "display_name": "Python 3 (ipykernel)",
   "language": "python",
   "name": "python3"
  },
  "language_info": {
   "codemirror_mode": {
    "name": "ipython",
    "version": 3
   },
   "file_extension": ".py",
   "mimetype": "text/x-python",
   "name": "python",
   "nbconvert_exporter": "python",
   "pygments_lexer": "ipython3",
   "version": "3.9.12"
  }
 },
 "nbformat": 4,
 "nbformat_minor": 5
}
